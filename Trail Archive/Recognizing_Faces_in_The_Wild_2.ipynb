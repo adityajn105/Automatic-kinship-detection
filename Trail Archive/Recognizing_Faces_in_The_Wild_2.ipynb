{
  "nbformat": 4,
  "nbformat_minor": 0,
  "metadata": {
    "colab": {
      "name": "Recognizing Faces in The Wild.ipynb",
      "version": "0.3.2",
      "provenance": [],
      "collapsed_sections": []
    },
    "kernelspec": {
      "name": "python3",
      "display_name": "Python 3"
    },
    "accelerator": "GPU"
  },
  "cells": [
    {
      "cell_type": "code",
      "metadata": {
        "id": "HT0HhLIAEKeP",
        "colab_type": "code",
        "outputId": "517a9469-46b3-4252-864c-c64c9e2f3ad0",
        "colab": {
          "resources": {
            "http://localhost:8080/nbextensions/google.colab/files.js": {
              "data": "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",
              "ok": true,
              "headers": [
                [
                  "content-type",
                  "application/javascript"
                ]
              ],
              "status": 200,
              "status_text": ""
            }
          },
          "base_uri": "https://localhost:8080/",
          "height": 91
        }
      },
      "source": [
        "from google.colab import files\n",
        "files.upload()"
      ],
      "execution_count": 1,
      "outputs": [
        {
          "output_type": "display_data",
          "data": {
            "text/html": [
              "\n",
              "     <input type=\"file\" id=\"files-348f45e3-b9d2-4df3-8aa8-3902c2f70972\" name=\"files[]\" multiple disabled />\n",
              "     <output id=\"result-348f45e3-b9d2-4df3-8aa8-3902c2f70972\">\n",
              "      Upload widget is only available when the cell has been executed in the\n",
              "      current browser session. Please rerun this cell to enable.\n",
              "      </output>\n",
              "      <script src=\"/nbextensions/google.colab/files.js\"></script> "
            ],
            "text/plain": [
              "<IPython.core.display.HTML object>"
            ]
          },
          "metadata": {
            "tags": []
          }
        },
        {
          "output_type": "stream",
          "text": [
            "Saving kaggle.json to kaggle.json\n"
          ],
          "name": "stdout"
        },
        {
          "output_type": "execute_result",
          "data": {
            "text/plain": [
              "{'kaggle.json': b'{\"username\":\"adityajn105\",\"key\":\"571939f74e6a6e23ec01a7d769da7958\"}'}"
            ]
          },
          "metadata": {
            "tags": []
          },
          "execution_count": 1
        }
      ]
    },
    {
      "cell_type": "code",
      "metadata": {
        "id": "5poCvtK_EPGB",
        "colab_type": "code",
        "outputId": "721dce22-53d3-48bc-f1e6-9a262f180f8d",
        "colab": {
          "base_uri": "https://localhost:8080/",
          "height": 258
        }
      },
      "source": [
        "!mkdir /root/.kaggle\n",
        "!mv kaggle.json /root/.kaggle/\n",
        "!kaggle competitions download -c recognizing-faces-in-the-wild\n",
        "!mkdir train test\n",
        "!unzip -q train.zip -d train\n",
        "!unzip -q test.zip -d test\n",
        "!rm train.zip test.zip"
      ],
      "execution_count": 2,
      "outputs": [
        {
          "output_type": "stream",
          "text": [
            "Warning: Your Kaggle API key is readable by other users on this system! To fix this, you can run 'chmod 600 /root/.kaggle/kaggle.json'\n",
            "Downloading train_relationships.csv to /content\n",
            "\r  0% 0.00/77.6k [00:00<?, ?B/s]\n",
            "100% 77.6k/77.6k [00:00<00:00, 67.4MB/s]\n",
            "Downloading test.zip to /content\n",
            " 73% 25.0M/34.1M [00:00<00:00, 131MB/s]\n",
            "100% 34.1M/34.1M [00:00<00:00, 135MB/s]\n",
            "Downloading train.zip to /content\n",
            " 98% 67.0M/68.6M [00:00<00:00, 121MB/s]\n",
            "100% 68.6M/68.6M [00:00<00:00, 139MB/s]\n",
            "Downloading sample_submission.csv to /content\n",
            "  0% 0.00/156k [00:00<?, ?B/s]\n",
            "100% 156k/156k [00:00<00:00, 138MB/s]\n"
          ],
          "name": "stdout"
        }
      ]
    },
    {
      "cell_type": "code",
      "metadata": {
        "id": "tK-nGulEo__R",
        "colab_type": "code",
        "outputId": "3a17fbf3-2434-44fb-ec11-fd8b8080f772",
        "colab": {
          "base_uri": "https://localhost:8080/",
          "height": 360
        }
      },
      "source": [
        "!pip install git+https://github.com/rcmalli/keras-vggface.git"
      ],
      "execution_count": 3,
      "outputs": [
        {
          "output_type": "stream",
          "text": [
            "Collecting git+https://github.com/rcmalli/keras-vggface.git\n",
            "  Cloning https://github.com/rcmalli/keras-vggface.git to /tmp/pip-req-build-goxh_j6z\n",
            "  Running command git clone -q https://github.com/rcmalli/keras-vggface.git /tmp/pip-req-build-goxh_j6z\n",
            "Requirement already satisfied: numpy>=1.9.1 in /usr/local/lib/python3.6/dist-packages (from keras-vggface==0.5) (1.16.3)\n",
            "Requirement already satisfied: scipy>=0.14 in /usr/local/lib/python3.6/dist-packages (from keras-vggface==0.5) (1.3.0)\n",
            "Requirement already satisfied: h5py in /usr/local/lib/python3.6/dist-packages (from keras-vggface==0.5) (2.8.0)\n",
            "Requirement already satisfied: pillow in /usr/local/lib/python3.6/dist-packages (from keras-vggface==0.5) (4.3.0)\n",
            "Requirement already satisfied: keras in /usr/local/lib/python3.6/dist-packages (from keras-vggface==0.5) (2.2.4)\n",
            "Requirement already satisfied: six>=1.9.0 in /usr/local/lib/python3.6/dist-packages (from keras-vggface==0.5) (1.12.0)\n",
            "Requirement already satisfied: pyyaml in /usr/local/lib/python3.6/dist-packages (from keras-vggface==0.5) (3.13)\n",
            "Requirement already satisfied: olefile in /usr/local/lib/python3.6/dist-packages (from pillow->keras-vggface==0.5) (0.46)\n",
            "Requirement already satisfied: keras-preprocessing>=1.0.5 in /usr/local/lib/python3.6/dist-packages (from keras->keras-vggface==0.5) (1.0.9)\n",
            "Requirement already satisfied: keras-applications>=1.0.6 in /usr/local/lib/python3.6/dist-packages (from keras->keras-vggface==0.5) (1.0.7)\n",
            "Building wheels for collected packages: keras-vggface\n",
            "  Building wheel for keras-vggface (setup.py) ... \u001b[?25l\u001b[?25hdone\n",
            "  Stored in directory: /tmp/pip-ephem-wheel-cache-uitrw6vd/wheels/36/07/46/06c25ce8e9cd396dabe151ea1d8a2bc28dafcb11321c1f3a6d\n",
            "Successfully built keras-vggface\n",
            "Installing collected packages: keras-vggface\n",
            "Successfully installed keras-vggface-0.5\n"
          ],
          "name": "stdout"
        }
      ]
    },
    {
      "cell_type": "code",
      "metadata": {
        "id": "6MxrfTqork91",
        "colab_type": "code",
        "outputId": "54d4a2fb-112d-43f2-c44a-15cd7dccd907",
        "colab": {
          "base_uri": "https://localhost:8080/",
          "height": 34
        }
      },
      "source": [
        "import gc\n",
        "import cv2\n",
        "import glob\n",
        "import numpy as np\n",
        "from keras_vggface.utils import preprocess_input\n",
        "\n",
        "IMG_DIM = (224,224,3)\n",
        "\n",
        "def read_img(path):\n",
        "  img = cv2.imread(path)\n",
        "  img = np.array(img).astype(np.float)\n",
        "  return preprocess_input(img,version=2)"
      ],
      "execution_count": 4,
      "outputs": [
        {
          "output_type": "stream",
          "text": [
            "Using TensorFlow backend.\n"
          ],
          "name": "stderr"
        }
      ]
    },
    {
      "cell_type": "code",
      "metadata": {
        "id": "psjuVfOyXZea",
        "colab_type": "code",
        "outputId": "05a90f07-9282-4210-9e87-5647c9683f22",
        "colab": {
          "base_uri": "https://localhost:8080/",
          "height": 34
        }
      },
      "source": [
        "from collections import defaultdict\n",
        "allPhotos = defaultdict(list)\n",
        "for family in glob.glob(\"train/*\"):\n",
        "  for mem in glob.glob(family+'/*'):\n",
        "    for photo in glob.glob(mem+'/*'):\n",
        "      allPhotos[mem].append(photo)\n",
        "ppl = list(allPhotos.keys())\n",
        "len(ppl)"
      ],
      "execution_count": 5,
      "outputs": [
        {
          "output_type": "execute_result",
          "data": {
            "text/plain": [
              "2316"
            ]
          },
          "metadata": {
            "tags": []
          },
          "execution_count": 5
        }
      ]
    },
    {
      "cell_type": "code",
      "metadata": {
        "id": "MdMCkPo7oBM8",
        "colab_type": "code",
        "outputId": "f8cdc436-1c5c-4da7-8870-65a8f2e67994",
        "colab": {
          "base_uri": "https://localhost:8080/",
          "height": 221
        }
      },
      "source": [
        "import pandas as pd\n",
        "import numpy as np\n",
        "data = pd.read_csv('train_relationships.csv')\n",
        "data.p1 = data.p1.apply( lambda x: 'train/'+x )\n",
        "data.p2 = data.p2.apply( lambda x: 'train/'+x )\n",
        "print(data.shape)\n",
        "data.head()"
      ],
      "execution_count": 6,
      "outputs": [
        {
          "output_type": "stream",
          "text": [
            "(3598, 2)\n"
          ],
          "name": "stdout"
        },
        {
          "output_type": "execute_result",
          "data": {
            "text/html": [
              "<div>\n",
              "<style scoped>\n",
              "    .dataframe tbody tr th:only-of-type {\n",
              "        vertical-align: middle;\n",
              "    }\n",
              "\n",
              "    .dataframe tbody tr th {\n",
              "        vertical-align: top;\n",
              "    }\n",
              "\n",
              "    .dataframe thead th {\n",
              "        text-align: right;\n",
              "    }\n",
              "</style>\n",
              "<table border=\"1\" class=\"dataframe\">\n",
              "  <thead>\n",
              "    <tr style=\"text-align: right;\">\n",
              "      <th></th>\n",
              "      <th>p1</th>\n",
              "      <th>p2</th>\n",
              "    </tr>\n",
              "  </thead>\n",
              "  <tbody>\n",
              "    <tr>\n",
              "      <th>0</th>\n",
              "      <td>train/F0002/MID1</td>\n",
              "      <td>train/F0002/MID3</td>\n",
              "    </tr>\n",
              "    <tr>\n",
              "      <th>1</th>\n",
              "      <td>train/F0002/MID2</td>\n",
              "      <td>train/F0002/MID3</td>\n",
              "    </tr>\n",
              "    <tr>\n",
              "      <th>2</th>\n",
              "      <td>train/F0005/MID1</td>\n",
              "      <td>train/F0005/MID2</td>\n",
              "    </tr>\n",
              "    <tr>\n",
              "      <th>3</th>\n",
              "      <td>train/F0005/MID3</td>\n",
              "      <td>train/F0005/MID2</td>\n",
              "    </tr>\n",
              "    <tr>\n",
              "      <th>4</th>\n",
              "      <td>train/F0009/MID1</td>\n",
              "      <td>train/F0009/MID4</td>\n",
              "    </tr>\n",
              "  </tbody>\n",
              "</table>\n",
              "</div>"
            ],
            "text/plain": [
              "                 p1                p2\n",
              "0  train/F0002/MID1  train/F0002/MID3\n",
              "1  train/F0002/MID2  train/F0002/MID3\n",
              "2  train/F0005/MID1  train/F0005/MID2\n",
              "3  train/F0005/MID3  train/F0005/MID2\n",
              "4  train/F0009/MID1  train/F0009/MID4"
            ]
          },
          "metadata": {
            "tags": []
          },
          "execution_count": 6
        }
      ]
    },
    {
      "cell_type": "code",
      "metadata": {
        "id": "ucDz9dmgAX0D",
        "colab_type": "code",
        "outputId": "f16628f3-fcf7-469f-a457-8446f0e4516c",
        "colab": {
          "base_uri": "https://localhost:8080/",
          "height": 34
        }
      },
      "source": [
        "data = data[ ( (data.p1.isin(ppl)) & (data.p2.isin(ppl)) ) ]\n",
        "data = [ ( x[0], x[1]  ) for x in data.values ]\n",
        "len(data)"
      ],
      "execution_count": 7,
      "outputs": [
        {
          "output_type": "execute_result",
          "data": {
            "text/plain": [
              "3362"
            ]
          },
          "metadata": {
            "tags": []
          },
          "execution_count": 7
        }
      ]
    },
    {
      "cell_type": "code",
      "metadata": {
        "id": "-WozbrHIiPWu",
        "colab_type": "code",
        "colab": {
          "base_uri": "https://localhost:8080/",
          "height": 269
        },
        "outputId": "99fd8043-7dab-41cb-b218-28cbe2ab7079"
      },
      "source": [
        "%matplotlib inline\n",
        "import matplotlib.pyplot as plt\n",
        "from random import choice, sample\n",
        "\n",
        "f, ax = plt.subplots(2, 2, figsize=(4, 4))\n",
        "batch = sample(data,2)\n",
        "for i,j in [(0,0),(0,1),(1,0),(1,1)]:\n",
        "  ax[i][j].imshow( cv2.imread( choice(allPhotos[batch[i][j]]) ) )"
      ],
      "execution_count": 24,
      "outputs": [
        {
          "output_type": "display_data",
          "data": {
            "image/png": "[encoded data removed]",
            "text/plain": [
              "<Figure size 288x288 with 4 Axes>"
            ]
          },
          "metadata": {
            "tags": []
          }
        }
      ]
    },
    {
      "cell_type": "code",
      "metadata": {
        "id": "0ynX6fHHSkK6",
        "colab_type": "code",
        "outputId": "f3e82f54-707e-43e4-e5be-f2525f4f92ed",
        "colab": {
          "base_uri": "https://localhost:8080/",
          "height": 34
        }
      },
      "source": [
        "train = [ x for x in data if 'F09' not in x[0]  ]\n",
        "val = [ x for x in data if 'F09' in x[0]  ]\n",
        "len(train), len(val)"
      ],
      "execution_count": 25,
      "outputs": [
        {
          "output_type": "execute_result",
          "data": {
            "text/plain": [
              "(3066, 296)"
            ]
          },
          "metadata": {
            "tags": []
          },
          "execution_count": 25
        }
      ]
    },
    {
      "cell_type": "code",
      "metadata": {
        "id": "1DMuAgZVElFX",
        "colab_type": "code",
        "colab": {}
      },
      "source": [
        "del data; gc.collect();"
      ],
      "execution_count": 0,
      "outputs": []
    },
    {
      "cell_type": "code",
      "metadata": {
        "id": "grj2PbcEXlY6",
        "colab_type": "code",
        "colab": {}
      },
      "source": [
        "def getImages(p1,p2):\n",
        "    p1 = read_img(choice(allPhotos[p1]))\n",
        "    p2 = read_img(choice(allPhotos[p2]))\n",
        "    return p1,p2\n",
        "\n",
        "def getMiniBatch(batch_size=32, data=train):\n",
        "  p1 = []; p2 = []; Y = []\n",
        "  batch = sample(train, int(batch_size/2))\n",
        "  for x in batch:\n",
        "    _p1, _p2 = getImages(*x)\n",
        "    p1.append(_p1);p2.append(_p2);Y.append(1)\n",
        "  while len(Y) < batch_size:\n",
        "    _p1,_p2 = tuple(np.random.choice(ppl,size=2, replace=False))\n",
        "    if (_p1,_p2) not in train+val and (_p2,_p1) not in train+val:\n",
        "      _p1,_p2 = getImages(_p1,_p2)\n",
        "      p1.append(_p1);p2.append(_p2);Y.append(0) \n",
        "  return [np.array(p1),np.array(p2)], np.array(Y)"
      ],
      "execution_count": 0,
      "outputs": []
    },
    {
      "cell_type": "code",
      "metadata": {
        "id": "SRD1pUAzDFDe",
        "colab_type": "code",
        "outputId": "6ed3262b-c75e-4c63-b860-dfdf98a9ce14",
        "colab": {
          "base_uri": "https://localhost:8080/",
          "height": 122
        }
      },
      "source": [
        "from keras_vggface.vggface import VGGFace\n",
        "vggface = VGGFace(model='resnet50', include_top=False, input_shape=IMG_DIM)\n",
        "vggface.trainable=False\n",
        "for layer in vggface.layers[:-30]:\n",
        "  layer.trainable=False"
      ],
      "execution_count": 28,
      "outputs": [
        {
          "output_type": "stream",
          "text": [
            "WARNING:tensorflow:From /usr/local/lib/python3.6/dist-packages/tensorflow/python/framework/op_def_library.py:263: colocate_with (from tensorflow.python.framework.ops) is deprecated and will be removed in a future version.\n",
            "Instructions for updating:\n",
            "Colocations handled automatically by placer.\n",
            "Downloading data from https://github.com/rcmalli/keras-vggface/releases/download/v2.0/rcmalli_vggface_tf_notop_resnet50.h5\n",
            "94699520/94694792 [==============================] - 1s 0us/step\n"
          ],
          "name": "stdout"
        }
      ]
    },
    {
      "cell_type": "code",
      "metadata": {
        "id": "YpZHLc4dHjVM",
        "colab_type": "code",
        "colab": {}
      },
      "source": [
        "def initialize_bias(shape, name=None):\n",
        "    \"\"\"\n",
        "        The paper, http://www.cs.utoronto.ca/~gkoch/files/msc-thesis.pdf\n",
        "        suggests to initialize CNN layer bias with mean as 0.5 and standard deviation of 0.01\n",
        "    \"\"\"\n",
        "    return np.random.normal(loc = 0.5, scale = 1e-2, size = shape)\n",
        "  \n",
        "def initialize_weights(shape, name=None):\n",
        "    \"\"\"\n",
        "        The paper, http://www.cs.utoronto.ca/~gkoch/files/msc-thesis.pdf\n",
        "        suggests to initialize CNN layer weights with mean as 0.0 and standard deviation of 0.01\n",
        "    \"\"\"\n",
        "    return np.random.normal(loc = 0.0, scale = 1e-2, size = shape)"
      ],
      "execution_count": 0,
      "outputs": []
    },
    {
      "cell_type": "code",
      "metadata": {
        "id": "tleSY8ud8RGe",
        "colab_type": "code",
        "outputId": "b1817d99-e410-42ad-b99f-30988c6b3921",
        "colab": {
          "base_uri": "https://localhost:8080/",
          "height": 190
        }
      },
      "source": [
        "from keras.layers import Input, Dense, Flatten, Subtract, Dropout, Multiply\n",
        "from keras.layers import Lambda, Concatenate, GlobalMaxPool2D, GlobalAvgPool2D\n",
        "from keras.models import Model \n",
        "from keras.regularizers import l2\n",
        "from keras import backend as K\n",
        "from keras.optimizers import SGD,Adam\n",
        "from keras.losses import binary_crossentropy\n",
        "import tensorflow as tf\n",
        "from sklearn.metrics import roc_auc_score\n",
        "\n",
        "def auc(y_true, y_pred):\n",
        "    return tf.py_func(roc_auc_score, (y_true, y_pred), tf.double)\n",
        "\n",
        "left_input = Input(IMG_DIM)\n",
        "right_input = Input(IMG_DIM)\n",
        "\n",
        "\n",
        "x1 = vggface(left_input)\n",
        "x2 = vggface(right_input)\n",
        "\n",
        "x1 = Concatenate(axis=-1)([GlobalMaxPool2D()(x1), GlobalAvgPool2D()(x1)])\n",
        "x2 = Concatenate(axis=-1)([GlobalMaxPool2D()(x2), GlobalAvgPool2D()(x2)])\n",
        "\n",
        "fc = Dense(100,activation='relu',kernel_regularizer=l2(1e-3),\n",
        "                   kernel_initializer=initialize_weights,bias_initializer=initialize_bias)\n",
        "encoded_l = fc(x1)\n",
        "encoded_r = fc(x2)\n",
        "\n",
        "L1_layer = Lambda(lambda tensors:K.abs(tensors[0] - tensors[1]))\n",
        "L1_distance = L1_layer([encoded_l, encoded_r])\n",
        "\n",
        "prediction = Dense(1,activation='sigmoid',bias_initializer=initialize_bias)(L1_distance)\n",
        "\n",
        "siamese_net = Model(inputs=[left_input,right_input],outputs=prediction)\n",
        "\n",
        "optimizer = Adam(1e-5)\n",
        "\n",
        "\n",
        "\"https://towardsdatascience.com/lossless-triplet-loss-7e932f990b24\"\n",
        "\n",
        "siamese_net.compile(loss=\"binary_crossentropy\",optimizer=optimizer,metrics=['accuracy',auc])"
      ],
      "execution_count": 30,
      "outputs": [
        {
          "output_type": "stream",
          "text": [
            "WARNING:tensorflow:From <ipython-input-30-e7e638755a01>:12: py_func (from tensorflow.python.ops.script_ops) is deprecated and will be removed in a future version.\n",
            "Instructions for updating:\n",
            "tf.py_func is deprecated in TF V2. Instead, use\n",
            "    tf.py_function, which takes a python function which manipulates tf eager\n",
            "    tensors instead of numpy arrays. It's easy to convert a tf eager tensor to\n",
            "    an ndarray (just call tensor.numpy()) but having access to eager tensors\n",
            "    means `tf.py_function`s can use accelerators such as GPUs as well as\n",
            "    being differentiable using a gradient tape.\n",
            "    \n"
          ],
          "name": "stdout"
        }
      ]
    },
    {
      "cell_type": "code",
      "metadata": {
        "id": "Mi1Nm6G3GIHH",
        "colab_type": "code",
        "colab": {}
      },
      "source": [
        "def Generator(batch_size, data ):\n",
        "  while True:\n",
        "    yield getMiniBatch(batch_size=batch_size, data=data)"
      ],
      "execution_count": 0,
      "outputs": []
    },
    {
      "cell_type": "code",
      "metadata": {
        "id": "kSM931f-Qnb6",
        "colab_type": "code",
        "outputId": "de00befe-3d6b-4df5-e209-51e7b3212001",
        "colab": {
          "base_uri": "https://localhost:8080/",
          "height": 4117
        }
      },
      "source": [
        "from keras.callbacks import ReduceLROnPlateau, ModelCheckpoint, EarlyStopping\n",
        "import threading\n",
        "\n",
        "reducelr = ReduceLROnPlateau(monitor='val_loss', mode='min',patience=10,factor=0.1,verbose=1)\n",
        "\n",
        "model_checkpoint  = ModelCheckpoint('model_best_checkpoint.h5', save_best_only=True,\n",
        "                                    save_weights_only=True, monitor='val_auc', mode='max', verbose=1)\n",
        "\n",
        "early_stopping = EarlyStopping(monitor='val_loss', patience=20, mode='min')\n",
        "\n",
        "callbacks_list = [reducelr, model_checkpoint, early_stopping]\n",
        "\n",
        "\n",
        "train_gen = Generator(batch_size=16,data=train)\n",
        "val_gen = Generator(batch_size=16,data=val)\n",
        "\n",
        "history = siamese_net.fit_generator( train_gen, samples_per_epoch=200, epochs=100, \n",
        "                          validation_data=val_gen, validation_steps=100, use_multiprocessing=True,\n",
        "                          verbose=1,callbacks=callbacks_list, workers=4)"
      ],
      "execution_count": 32,
      "outputs": [
        {
          "output_type": "stream",
          "text": [
            "WARNING:tensorflow:From /usr/local/lib/python3.6/dist-packages/tensorflow/python/ops/math_ops.py:3066: to_int32 (from tensorflow.python.ops.math_ops) is deprecated and will be removed in a future version.\n",
            "Instructions for updating:\n",
            "Use tf.cast instead.\n"
          ],
          "name": "stdout"
        },
        {
          "output_type": "stream",
          "text": [
            "/usr/local/lib/python3.6/dist-packages/ipykernel_launcher.py:19: UserWarning: Update your `fit_generator` call to the Keras 2 API: `fit_generator(<generator..., epochs=100, validation_data=<generator..., validation_steps=100, use_multiprocessing=True, verbose=1, callbacks=[<keras.ca..., workers=4, steps_per_epoch=200)`\n"
          ],
          "name": "stderr"
        },
        {
          "output_type": "stream",
          "text": [
            "Epoch 1/100\n"
          ],
          "name": "stdout"
        },
        {
          "output_type": "stream",
          "text": [
            "/usr/local/lib/python3.6/dist-packages/keras/engine/training_generator.py:47: UserWarning: Using a generator with `use_multiprocessing=True` and multiple workers may duplicate your data. Please consider using the`keras.utils.Sequence class.\n",
            "  UserWarning('Using a generator with `use_multiprocessing=True`'\n"
          ],
          "name": "stderr"
        },
        {
          "output_type": "stream",
          "text": [
            "200/200 [==============================] - 54s 269ms/step - loss: 0.8231 - acc: 0.5216 - auc: 0.5298 - val_loss: 0.8037 - val_acc: 0.5600 - val_auc: 0.6019\n",
            "\n",
            "Epoch 00001: val_auc improved from -inf to 0.60188, saving model to model_best_checkpoint.h5\n",
            "Epoch 2/100\n",
            "200/200 [==============================] - 43s 214ms/step - loss: 0.7924 - acc: 0.5219 - auc: 0.5376 - val_loss: 0.8185 - val_acc: 0.5469 - val_auc: 0.5748\n",
            "\n",
            "Epoch 00002: val_auc did not improve from 0.60188\n",
            "Epoch 3/100\n",
            "200/200 [==============================] - 42s 212ms/step - loss: 0.7634 - acc: 0.5566 - auc: 0.5747 - val_loss: 0.7848 - val_acc: 0.5756 - val_auc: 0.5934\n",
            "\n",
            "Epoch 00003: val_auc did not improve from 0.60188\n",
            "Epoch 4/100\n",
            "200/200 [==============================] - 43s 216ms/step - loss: 0.7510 - acc: 0.5675 - auc: 0.5859 - val_loss: 0.7739 - val_acc: 0.5569 - val_auc: 0.5950\n",
            "\n",
            "Epoch 00004: val_auc did not improve from 0.60188\n",
            "Epoch 5/100\n",
            "200/200 [==============================] - 43s 214ms/step - loss: 0.7503 - acc: 0.5641 - auc: 0.5837 - val_loss: 0.7438 - val_acc: 0.6150 - val_auc: 0.6377\n",
            "\n",
            "Epoch 00005: val_auc improved from 0.60188 to 0.63766, saving model to model_best_checkpoint.h5\n",
            "Epoch 6/100\n",
            "200/200 [==============================] - 43s 214ms/step - loss: 0.7275 - acc: 0.5881 - auc: 0.6236 - val_loss: 0.7242 - val_acc: 0.6175 - val_auc: 0.6600\n",
            "\n",
            "Epoch 00006: val_auc improved from 0.63766 to 0.66000, saving model to model_best_checkpoint.h5\n",
            "Epoch 7/100\n",
            "200/200 [==============================] - 43s 216ms/step - loss: 0.7049 - acc: 0.6144 - auc: 0.6501 - val_loss: 0.7496 - val_acc: 0.6025 - val_auc: 0.6291\n",
            "\n",
            "Epoch 00007: val_auc did not improve from 0.66000\n",
            "Epoch 8/100\n",
            "200/200 [==============================] - 43s 214ms/step - loss: 0.6972 - acc: 0.6031 - auc: 0.6545 - val_loss: 0.7029 - val_acc: 0.6131 - val_auc: 0.6903\n",
            "\n",
            "Epoch 00008: val_auc improved from 0.66000 to 0.69031, saving model to model_best_checkpoint.h5\n",
            "Epoch 9/100\n",
            "200/200 [==============================] - 43s 216ms/step - loss: 0.7030 - acc: 0.5994 - auc: 0.6529 - val_loss: 0.7447 - val_acc: 0.5938 - val_auc: 0.6402\n",
            "\n",
            "Epoch 00009: val_auc did not improve from 0.69031\n",
            "Epoch 10/100\n",
            "200/200 [==============================] - 43s 214ms/step - loss: 0.6929 - acc: 0.6197 - auc: 0.6653 - val_loss: 0.7017 - val_acc: 0.6219 - val_auc: 0.6772\n",
            "\n",
            "Epoch 00010: val_auc did not improve from 0.69031\n",
            "Epoch 11/100\n",
            "200/200 [==============================] - 43s 216ms/step - loss: 0.6706 - acc: 0.6384 - auc: 0.6959 - val_loss: 0.6838 - val_acc: 0.6388 - val_auc: 0.6934\n",
            "\n",
            "Epoch 00011: val_auc improved from 0.69031 to 0.69344, saving model to model_best_checkpoint.h5\n",
            "Epoch 12/100\n",
            "200/200 [==============================] - 43s 213ms/step - loss: 0.6690 - acc: 0.6366 - auc: 0.6991 - val_loss: 0.6961 - val_acc: 0.6250 - val_auc: 0.6883\n",
            "\n",
            "Epoch 00012: val_auc did not improve from 0.69344\n",
            "Epoch 13/100\n",
            "200/200 [==============================] - 43s 215ms/step - loss: 0.6574 - acc: 0.6600 - auc: 0.7122 - val_loss: 0.6822 - val_acc: 0.6450 - val_auc: 0.7036\n",
            "\n",
            "Epoch 00013: val_auc improved from 0.69344 to 0.70359, saving model to model_best_checkpoint.h5\n",
            "Epoch 14/100\n",
            "200/200 [==============================] - 43s 213ms/step - loss: 0.6643 - acc: 0.6428 - auc: 0.7106 - val_loss: 0.6814 - val_acc: 0.6338 - val_auc: 0.7089\n",
            "\n",
            "Epoch 00014: val_auc improved from 0.70359 to 0.70891, saving model to model_best_checkpoint.h5\n",
            "Epoch 15/100\n",
            "200/200 [==============================] - 43s 216ms/step - loss: 0.6513 - acc: 0.6703 - auc: 0.7305 - val_loss: 0.6598 - val_acc: 0.6669 - val_auc: 0.7214\n",
            "\n",
            "Epoch 00015: val_auc improved from 0.70891 to 0.72141, saving model to model_best_checkpoint.h5\n",
            "Epoch 16/100\n",
            "200/200 [==============================] - 43s 214ms/step - loss: 0.6317 - acc: 0.6738 - auc: 0.7513 - val_loss: 0.6515 - val_acc: 0.6675 - val_auc: 0.7361\n",
            "\n",
            "Epoch 00016: val_auc improved from 0.72141 to 0.73609, saving model to model_best_checkpoint.h5\n",
            "Epoch 17/100\n",
            "200/200 [==============================] - 43s 216ms/step - loss: 0.6241 - acc: 0.6847 - auc: 0.7587 - val_loss: 0.6455 - val_acc: 0.6713 - val_auc: 0.7372\n",
            "\n",
            "Epoch 00017: val_auc improved from 0.73609 to 0.73719, saving model to model_best_checkpoint.h5\n",
            "Epoch 18/100\n",
            "200/200 [==============================] - 44s 219ms/step - loss: 0.6277 - acc: 0.6653 - auc: 0.7436 - val_loss: 0.6443 - val_acc: 0.6656 - val_auc: 0.7402\n",
            "\n",
            "Epoch 00018: val_auc improved from 0.73719 to 0.74016, saving model to model_best_checkpoint.h5\n",
            "Epoch 19/100\n",
            "200/200 [==============================] - 43s 213ms/step - loss: 0.6234 - acc: 0.6866 - auc: 0.7557 - val_loss: 0.6696 - val_acc: 0.6625 - val_auc: 0.7087\n",
            "\n",
            "Epoch 00019: val_auc did not improve from 0.74016\n",
            "Epoch 20/100\n",
            "200/200 [==============================] - 43s 215ms/step - loss: 0.6095 - acc: 0.6984 - auc: 0.7737 - val_loss: 0.6005 - val_acc: 0.7069 - val_auc: 0.7853\n",
            "\n",
            "Epoch 00020: val_auc improved from 0.74016 to 0.78531, saving model to model_best_checkpoint.h5\n",
            "Epoch 21/100\n",
            "200/200 [==============================] - 43s 213ms/step - loss: 0.6174 - acc: 0.6809 - auc: 0.7633 - val_loss: 0.6230 - val_acc: 0.6825 - val_auc: 0.7664\n",
            "\n",
            "Epoch 00021: val_auc did not improve from 0.78531\n",
            "Epoch 22/100\n",
            "200/200 [==============================] - 43s 216ms/step - loss: 0.6045 - acc: 0.7072 - auc: 0.7786 - val_loss: 0.6247 - val_acc: 0.6831 - val_auc: 0.7619\n",
            "\n",
            "Epoch 00022: val_auc did not improve from 0.78531\n",
            "Epoch 23/100\n",
            "200/200 [==============================] - 43s 213ms/step - loss: 0.6171 - acc: 0.6931 - auc: 0.7608 - val_loss: 0.5957 - val_acc: 0.7200 - val_auc: 0.7872\n",
            "\n",
            "Epoch 00023: val_auc improved from 0.78531 to 0.78719, saving model to model_best_checkpoint.h5\n",
            "Epoch 24/100\n",
            "200/200 [==============================] - 43s 214ms/step - loss: 0.6013 - acc: 0.7113 - auc: 0.7841 - val_loss: 0.5943 - val_acc: 0.7056 - val_auc: 0.7859\n",
            "\n",
            "Epoch 00024: val_auc did not improve from 0.78719\n",
            "Epoch 25/100\n",
            "200/200 [==============================] - 43s 215ms/step - loss: 0.5802 - acc: 0.7284 - auc: 0.7995 - val_loss: 0.5890 - val_acc: 0.7181 - val_auc: 0.8002\n",
            "\n",
            "Epoch 00025: val_auc improved from 0.78719 to 0.80016, saving model to model_best_checkpoint.h5\n",
            "Epoch 26/100\n",
            "200/200 [==============================] - 43s 215ms/step - loss: 0.5790 - acc: 0.7231 - auc: 0.8019 - val_loss: 0.6641 - val_acc: 0.6675 - val_auc: 0.7398\n",
            "\n",
            "Epoch 00026: val_auc did not improve from 0.80016\n",
            "Epoch 27/100\n",
            "200/200 [==============================] - 43s 214ms/step - loss: 0.5914 - acc: 0.7259 - auc: 0.7922 - val_loss: 0.6236 - val_acc: 0.6763 - val_auc: 0.7633\n",
            "\n",
            "Epoch 00027: val_auc did not improve from 0.80016\n",
            "Epoch 28/100\n",
            "200/200 [==============================] - 43s 216ms/step - loss: 0.5746 - acc: 0.7188 - auc: 0.8011 - val_loss: 0.6019 - val_acc: 0.7025 - val_auc: 0.7833\n",
            "\n",
            "Epoch 00028: val_auc did not improve from 0.80016\n",
            "Epoch 29/100\n",
            "200/200 [==============================] - 43s 213ms/step - loss: 0.5777 - acc: 0.7225 - auc: 0.8037 - val_loss: 0.6181 - val_acc: 0.6994 - val_auc: 0.7686\n",
            "\n",
            "Epoch 00029: val_auc did not improve from 0.80016\n",
            "Epoch 30/100\n",
            "200/200 [==============================] - 43s 215ms/step - loss: 0.5769 - acc: 0.7175 - auc: 0.8003 - val_loss: 0.5927 - val_acc: 0.7150 - val_auc: 0.7955\n",
            "\n",
            "Epoch 00030: val_auc did not improve from 0.80016\n",
            "Epoch 31/100\n",
            "200/200 [==============================] - 43s 215ms/step - loss: 0.5796 - acc: 0.7209 - auc: 0.7936 - val_loss: 0.6259 - val_acc: 0.6806 - val_auc: 0.7680\n",
            "\n",
            "Epoch 00031: val_auc did not improve from 0.80016\n",
            "Epoch 32/100\n",
            "200/200 [==============================] - 43s 215ms/step - loss: 0.5582 - acc: 0.7434 - auc: 0.8209 - val_loss: 0.6102 - val_acc: 0.7094 - val_auc: 0.7836\n",
            "\n",
            "Epoch 00032: val_auc did not improve from 0.80016\n",
            "Epoch 33/100\n",
            "200/200 [==============================] - 44s 219ms/step - loss: 0.5720 - acc: 0.7247 - auc: 0.8063 - val_loss: 0.6009 - val_acc: 0.6981 - val_auc: 0.7877\n",
            "\n",
            "Epoch 00033: val_auc did not improve from 0.80016\n",
            "Epoch 34/100\n",
            "200/200 [==============================] - 43s 216ms/step - loss: 0.5507 - acc: 0.7444 - auc: 0.8274 - val_loss: 0.6193 - val_acc: 0.6975 - val_auc: 0.7769\n",
            "\n",
            "Epoch 00034: val_auc did not improve from 0.80016\n",
            "Epoch 35/100\n",
            "200/200 [==============================] - 43s 216ms/step - loss: 0.5793 - acc: 0.7291 - auc: 0.8027 - val_loss: 0.5998 - val_acc: 0.7137 - val_auc: 0.7864\n",
            "\n",
            "Epoch 00035: ReduceLROnPlateau reducing learning rate to 9.999999747378752e-07.\n",
            "\n",
            "Epoch 00035: val_auc did not improve from 0.80016\n",
            "Epoch 36/100\n",
            "200/200 [==============================] - 43s 213ms/step - loss: 0.5482 - acc: 0.7481 - auc: 0.8245 - val_loss: 0.5706 - val_acc: 0.7231 - val_auc: 0.8137\n",
            "\n",
            "Epoch 00036: val_auc improved from 0.80016 to 0.81375, saving model to model_best_checkpoint.h5\n",
            "Epoch 37/100\n",
            "200/200 [==============================] - 43s 216ms/step - loss: 0.5825 - acc: 0.7159 - auc: 0.7940 - val_loss: 0.5517 - val_acc: 0.7469 - val_auc: 0.8286\n",
            "\n",
            "Epoch 00037: val_auc improved from 0.81375 to 0.82859, saving model to model_best_checkpoint.h5\n",
            "Epoch 38/100\n",
            "200/200 [==============================] - 43s 214ms/step - loss: 0.5559 - acc: 0.7331 - auc: 0.8227 - val_loss: 0.5669 - val_acc: 0.7238 - val_auc: 0.8059\n",
            "\n",
            "Epoch 00038: val_auc did not improve from 0.82859\n",
            "Epoch 39/100\n",
            "200/200 [==============================] - 43s 216ms/step - loss: 0.5396 - acc: 0.7491 - auc: 0.8375 - val_loss: 0.6058 - val_acc: 0.7063 - val_auc: 0.7834\n",
            "\n",
            "Epoch 00039: val_auc did not improve from 0.82859\n",
            "Epoch 40/100\n",
            "200/200 [==============================] - 43s 217ms/step - loss: 0.5727 - acc: 0.7247 - auc: 0.8042 - val_loss: 0.5893 - val_acc: 0.7119 - val_auc: 0.8044\n",
            "\n",
            "Epoch 00040: val_auc did not improve from 0.82859\n",
            "Epoch 41/100\n",
            "200/200 [==============================] - 44s 218ms/step - loss: 0.5648 - acc: 0.7297 - auc: 0.8130 - val_loss: 0.6267 - val_acc: 0.7063 - val_auc: 0.7644\n",
            "\n",
            "Epoch 00041: val_auc did not improve from 0.82859\n",
            "Epoch 42/100\n",
            "200/200 [==============================] - 43s 214ms/step - loss: 0.5598 - acc: 0.7347 - auc: 0.8205 - val_loss: 0.6168 - val_acc: 0.7069 - val_auc: 0.7773\n",
            "\n",
            "Epoch 00042: val_auc did not improve from 0.82859\n",
            "Epoch 43/100\n",
            "200/200 [==============================] - 43s 216ms/step - loss: 0.5488 - acc: 0.7591 - auc: 0.8355 - val_loss: 0.5753 - val_acc: 0.7375 - val_auc: 0.8208\n",
            "\n",
            "Epoch 00043: val_auc did not improve from 0.82859\n",
            "Epoch 44/100\n",
            "200/200 [==============================] - 43s 215ms/step - loss: 0.5609 - acc: 0.7441 - auc: 0.8173 - val_loss: 0.6481 - val_acc: 0.6813 - val_auc: 0.7525\n",
            "\n",
            "Epoch 00044: val_auc did not improve from 0.82859\n",
            "Epoch 45/100\n",
            "200/200 [==============================] - 43s 215ms/step - loss: 0.5328 - acc: 0.7663 - auc: 0.8446 - val_loss: 0.5978 - val_acc: 0.7125 - val_auc: 0.7884\n",
            "\n",
            "Epoch 00045: val_auc did not improve from 0.82859\n",
            "Epoch 46/100\n",
            "200/200 [==============================] - 43s 215ms/step - loss: 0.5387 - acc: 0.7575 - auc: 0.8396 - val_loss: 0.5981 - val_acc: 0.7087 - val_auc: 0.7902\n",
            "\n",
            "Epoch 00046: val_auc did not improve from 0.82859\n",
            "Epoch 47/100\n",
            "200/200 [==============================] - 44s 218ms/step - loss: 0.5553 - acc: 0.7403 - auc: 0.8212 - val_loss: 0.6028 - val_acc: 0.7119 - val_auc: 0.7828\n",
            "\n",
            "Epoch 00047: ReduceLROnPlateau reducing learning rate to 9.999999974752428e-08.\n",
            "\n",
            "Epoch 00047: val_auc did not improve from 0.82859\n",
            "Epoch 48/100\n",
            "200/200 [==============================] - 43s 216ms/step - loss: 0.5705 - acc: 0.7297 - auc: 0.8085 - val_loss: 0.5857 - val_acc: 0.7194 - val_auc: 0.7922\n",
            "\n",
            "Epoch 00048: val_auc did not improve from 0.82859\n",
            "Epoch 49/100\n",
            "200/200 [==============================] - 43s 214ms/step - loss: 0.5466 - acc: 0.7509 - auc: 0.8285 - val_loss: 0.5959 - val_acc: 0.7212 - val_auc: 0.7941\n",
            "\n",
            "Epoch 00049: val_auc did not improve from 0.82859\n",
            "Epoch 50/100\n",
            "200/200 [==============================] - 43s 216ms/step - loss: 0.5580 - acc: 0.7503 - auc: 0.8205 - val_loss: 0.5827 - val_acc: 0.7250 - val_auc: 0.8061\n",
            "\n",
            "Epoch 00050: val_auc did not improve from 0.82859\n",
            "Epoch 51/100\n",
            "200/200 [==============================] - 43s 213ms/step - loss: 0.5506 - acc: 0.7428 - auc: 0.8231 - val_loss: 0.5985 - val_acc: 0.6987 - val_auc: 0.7911\n",
            "\n",
            "Epoch 00051: val_auc did not improve from 0.82859\n",
            "Epoch 52/100\n",
            "200/200 [==============================] - 43s 216ms/step - loss: 0.5407 - acc: 0.7544 - auc: 0.8412 - val_loss: 0.5750 - val_acc: 0.7262 - val_auc: 0.8095\n",
            "\n",
            "Epoch 00052: val_auc did not improve from 0.82859\n",
            "Epoch 53/100\n",
            "200/200 [==============================] - 43s 213ms/step - loss: 0.5344 - acc: 0.7569 - auc: 0.8454 - val_loss: 0.5757 - val_acc: 0.7163 - val_auc: 0.8103\n",
            "\n",
            "Epoch 00053: val_auc did not improve from 0.82859\n",
            "Epoch 54/100\n",
            "200/200 [==============================] - 44s 219ms/step - loss: 0.5644 - acc: 0.7347 - auc: 0.8134 - val_loss: 0.5803 - val_acc: 0.7137 - val_auc: 0.7967\n",
            "\n",
            "Epoch 00054: val_auc did not improve from 0.82859\n",
            "Epoch 55/100\n",
            "200/200 [==============================] - 43s 214ms/step - loss: 0.5599 - acc: 0.7472 - auc: 0.8206 - val_loss: 0.5787 - val_acc: 0.7175 - val_auc: 0.8078\n",
            "\n",
            "Epoch 00055: val_auc did not improve from 0.82859\n",
            "Epoch 56/100\n",
            "200/200 [==============================] - 43s 215ms/step - loss: 0.5631 - acc: 0.7269 - auc: 0.8153 - val_loss: 0.5707 - val_acc: 0.7338 - val_auc: 0.8133\n",
            "\n",
            "Epoch 00056: val_auc did not improve from 0.82859\n",
            "Epoch 57/100\n",
            "200/200 [==============================] - 42s 212ms/step - loss: 0.5473 - acc: 0.7512 - auc: 0.8335 - val_loss: 0.6170 - val_acc: 0.6869 - val_auc: 0.7742\n",
            "\n",
            "Epoch 00057: ReduceLROnPlateau reducing learning rate to 1.0000000116860975e-08.\n",
            "\n",
            "Epoch 00057: val_auc did not improve from 0.82859\n"
          ],
          "name": "stdout"
        }
      ]
    },
    {
      "cell_type": "code",
      "metadata": {
        "id": "Z8WFmgf60EDw",
        "colab_type": "code",
        "colab": {
          "base_uri": "https://localhost:8080/",
          "height": 328
        },
        "outputId": "09dcf6e8-27f1-412c-f7ee-d7b465d794fd"
      },
      "source": [
        "f, (ax1, ax2, ax3) = plt.subplots(1, 3, figsize=(16, 4))\n",
        "t = f.suptitle('Siamese Net Performance', fontsize=12)\n",
        "f.subplots_adjust(top=0.85, wspace=0.3)\n",
        "epoch_list = history.epoch\n",
        "\n",
        "ax1.plot(epoch_list, history.history['acc'], label='Train Accuracy')\n",
        "ax1.plot(epoch_list, history.history['val_acc'], label='Validation Accuracy')\n",
        "ax1.set_xticks(np.arange(0, epoch_list[-1], 5))\n",
        "ax1.set_ylabel('Accuracy Value');ax1.set_xlabel('Epoch');ax1.set_title('Accuracy')\n",
        "ax1.legend(loc=\"best\");ax1.grid(color='gray', linestyle='-', linewidth=0.5)\n",
        "\n",
        "ax2.plot(epoch_list, history.history['loss'], label='Train Loss')\n",
        "ax2.plot(epoch_list, history.history['val_loss'], label='Validation Loss')\n",
        "ax2.set_xticks(np.arange(0, epoch_list[-1], 5))\n",
        "ax2.set_ylabel('Loss Value');ax2.set_xlabel('Epoch');ax2.set_title('Loss')\n",
        "ax2.legend(loc=\"best\");ax2.grid(color='gray', linestyle='-', linewidth=0.5)\n",
        "\n",
        "ax3.plot(epoch_list, history.history['auc'], label='Train AUC')\n",
        "ax3.plot(epoch_list, history.history['val_auc'], label='Validation AUC')\n",
        "ax3.set_xticks(np.arange(0, epoch_list[-1], 5))\n",
        "ax3.set_ylabel('AUC');ax3.set_xlabel('Epoch');ax3.set_title('AUC')\n",
        "ax3.legend(loc=\"best\");ax3.grid(color='gray', linestyle='-', linewidth=0.5)"
      ],
      "execution_count": 33,
      "outputs": [
        {
          "output_type": "display_data",
          "data": {
            "image/png": "[encoded data removed]",
            "text/plain": [
              "<Figure size 1152x288 with 3 Axes>"
            ]
          },
          "metadata": {
            "tags": []
          }
        }
      ]
    },
    {
      "cell_type": "code",
      "metadata": {
        "id": "xEKM9urnP-Xn",
        "colab_type": "code",
        "colab": {}
      },
      "source": [
        "siamese_net.load_weights('model_best_checkpoint.h5')"
      ],
      "execution_count": 0,
      "outputs": []
    },
    {
      "cell_type": "code",
      "metadata": {
        "id": "pMD1iAphODDk",
        "colab_type": "code",
        "colab": {
          "base_uri": "https://localhost:8080/",
          "height": 221
        },
        "outputId": "0e10c600-ba55-40c7-e588-36b2be926259"
      },
      "source": [
        "submission = pd.read_csv('sample_submission.csv')\n",
        "submission['p1'] = submission.img_pair.apply( lambda x: 'test/'+x.split('-')[0] )\n",
        "submission['p2'] = submission.img_pair.apply( lambda x: 'test/'+x.split('-')[1] )\n",
        "print(submission.shape)\n",
        "submission.head()"
      ],
      "execution_count": 40,
      "outputs": [
        {
          "output_type": "stream",
          "text": [
            "(5310, 4)\n"
          ],
          "name": "stdout"
        },
        {
          "output_type": "execute_result",
          "data": {
            "text/html": [
              "<div>\n",
              "<style scoped>\n",
              "    .dataframe tbody tr th:only-of-type {\n",
              "        vertical-align: middle;\n",
              "    }\n",
              "\n",
              "    .dataframe tbody tr th {\n",
              "        vertical-align: top;\n",
              "    }\n",
              "\n",
              "    .dataframe thead th {\n",
              "        text-align: right;\n",
              "    }\n",
              "</style>\n",
              "<table border=\"1\" class=\"dataframe\">\n",
              "  <thead>\n",
              "    <tr style=\"text-align: right;\">\n",
              "      <th></th>\n",
              "      <th>img_pair</th>\n",
              "      <th>is_related</th>\n",
              "      <th>p1</th>\n",
              "      <th>p2</th>\n",
              "    </tr>\n",
              "  </thead>\n",
              "  <tbody>\n",
              "    <tr>\n",
              "      <th>0</th>\n",
              "      <td>face05508.jpg-face01210.jpg</td>\n",
              "      <td>0</td>\n",
              "      <td>test/face05508.jpg</td>\n",
              "      <td>test/face01210.jpg</td>\n",
              "    </tr>\n",
              "    <tr>\n",
              "      <th>1</th>\n",
              "      <td>face05750.jpg-face00898.jpg</td>\n",
              "      <td>0</td>\n",
              "      <td>test/face05750.jpg</td>\n",
              "      <td>test/face00898.jpg</td>\n",
              "    </tr>\n",
              "    <tr>\n",
              "      <th>2</th>\n",
              "      <td>face05820.jpg-face03938.jpg</td>\n",
              "      <td>0</td>\n",
              "      <td>test/face05820.jpg</td>\n",
              "      <td>test/face03938.jpg</td>\n",
              "    </tr>\n",
              "    <tr>\n",
              "      <th>3</th>\n",
              "      <td>face02104.jpg-face01172.jpg</td>\n",
              "      <td>0</td>\n",
              "      <td>test/face02104.jpg</td>\n",
              "      <td>test/face01172.jpg</td>\n",
              "    </tr>\n",
              "    <tr>\n",
              "      <th>4</th>\n",
              "      <td>face02428.jpg-face05611.jpg</td>\n",
              "      <td>0</td>\n",
              "      <td>test/face02428.jpg</td>\n",
              "      <td>test/face05611.jpg</td>\n",
              "    </tr>\n",
              "  </tbody>\n",
              "</table>\n",
              "</div>"
            ],
            "text/plain": [
              "                      img_pair  ...                  p2\n",
              "0  face05508.jpg-face01210.jpg  ...  test/face01210.jpg\n",
              "1  face05750.jpg-face00898.jpg  ...  test/face00898.jpg\n",
              "2  face05820.jpg-face03938.jpg  ...  test/face03938.jpg\n",
              "3  face02104.jpg-face01172.jpg  ...  test/face01172.jpg\n",
              "4  face02428.jpg-face05611.jpg  ...  test/face05611.jpg\n",
              "\n",
              "[5 rows x 4 columns]"
            ]
          },
          "metadata": {
            "tags": []
          },
          "execution_count": 40
        }
      ]
    },
    {
      "cell_type": "code",
      "metadata": {
        "id": "dmBQTMX6UVPd",
        "colab_type": "code",
        "outputId": "958e9405-ec14-4fba-9983-ba035e43106d",
        "colab": {
          "base_uri": "https://localhost:8080/",
          "height": 34
        }
      },
      "source": [
        "from tqdm import tqdm\n",
        "\n",
        "probs = []\n",
        "for i,j in tqdm([ (0,500),(500,1000),(1000,1500),(1500,2000),(2000,2500),\n",
        "                 (2500,3000),(3000,3500),(3500,4000),(4000,4500),(4500,5000),(5000,5310) ]):\n",
        "  imgs1 = np.array( [ read_img(photo) for photo in submission.p1.values[i:j] ] )\n",
        "  imgs2 = np.array( [ read_img(photo) for photo in submission.p2.values[i:j] ] )\n",
        "  prob =  siamese_net.predict( [ imgs1, imgs2 ] )\n",
        "  probs.append(np.squeeze(prob))\n",
        "  del imgs1,imgs2; gc.collect()"
      ],
      "execution_count": 41,
      "outputs": [
        {
          "output_type": "stream",
          "text": [
            "100%|██████████| 11/11 [01:06<00:00,  5.59s/it]\n"
          ],
          "name": "stderr"
        }
      ]
    },
    {
      "cell_type": "code",
      "metadata": {
        "id": "26g7HCzrWJUA",
        "colab_type": "code",
        "outputId": "c707927b-592e-4268-86a4-43c07efa8900",
        "colab": {
          "base_uri": "https://localhost:8080/",
          "height": 204
        }
      },
      "source": [
        "submission.is_related = np.concatenate(probs)\n",
        "submission.drop( ['p1','p2'],axis=1,inplace=True )\n",
        "submission.head()"
      ],
      "execution_count": 42,
      "outputs": [
        {
          "output_type": "execute_result",
          "data": {
            "text/html": [
              "<div>\n",
              "<style scoped>\n",
              "    .dataframe tbody tr th:only-of-type {\n",
              "        vertical-align: middle;\n",
              "    }\n",
              "\n",
              "    .dataframe tbody tr th {\n",
              "        vertical-align: top;\n",
              "    }\n",
              "\n",
              "    .dataframe thead th {\n",
              "        text-align: right;\n",
              "    }\n",
              "</style>\n",
              "<table border=\"1\" class=\"dataframe\">\n",
              "  <thead>\n",
              "    <tr style=\"text-align: right;\">\n",
              "      <th></th>\n",
              "      <th>img_pair</th>\n",
              "      <th>is_related</th>\n",
              "    </tr>\n",
              "  </thead>\n",
              "  <tbody>\n",
              "    <tr>\n",
              "      <th>0</th>\n",
              "      <td>face05508.jpg-face01210.jpg</td>\n",
              "      <td>0.140519</td>\n",
              "    </tr>\n",
              "    <tr>\n",
              "      <th>1</th>\n",
              "      <td>face05750.jpg-face00898.jpg</td>\n",
              "      <td>0.327199</td>\n",
              "    </tr>\n",
              "    <tr>\n",
              "      <th>2</th>\n",
              "      <td>face05820.jpg-face03938.jpg</td>\n",
              "      <td>0.427925</td>\n",
              "    </tr>\n",
              "    <tr>\n",
              "      <th>3</th>\n",
              "      <td>face02104.jpg-face01172.jpg</td>\n",
              "      <td>0.199372</td>\n",
              "    </tr>\n",
              "    <tr>\n",
              "      <th>4</th>\n",
              "      <td>face02428.jpg-face05611.jpg</td>\n",
              "      <td>0.457735</td>\n",
              "    </tr>\n",
              "  </tbody>\n",
              "</table>\n",
              "</div>"
            ],
            "text/plain": [
              "                      img_pair  is_related\n",
              "0  face05508.jpg-face01210.jpg    0.140519\n",
              "1  face05750.jpg-face00898.jpg    0.327199\n",
              "2  face05820.jpg-face03938.jpg    0.427925\n",
              "3  face02104.jpg-face01172.jpg    0.199372\n",
              "4  face02428.jpg-face05611.jpg    0.457735"
            ]
          },
          "metadata": {
            "tags": []
          },
          "execution_count": 42
        }
      ]
    },
    {
      "cell_type": "code",
      "metadata": {
        "id": "93Cw8sgPWzSz",
        "colab_type": "code",
        "colab": {}
      },
      "source": [
        "submission.to_csv('submission.csv',index=False)"
      ],
      "execution_count": 0,
      "outputs": []
    },
    {
      "cell_type": "code",
      "metadata": {
        "id": "PwtaujPKOCuY",
        "colab_type": "code",
        "outputId": "8565119b-bc62-4848-ac05-15820b4a1f78",
        "colab": {
          "base_uri": "https://localhost:8080/",
          "height": 88
        }
      },
      "source": [
        "!kaggle competitions submit -c recognizing-faces-in-the-wild -f submission.csv -m \"6th vgg-face resnet(30 train) all-imgs adam(1e-5) max-auc:.80 min-loss:.57\""
      ],
      "execution_count": 44,
      "outputs": [
        {
          "output_type": "stream",
          "text": [
            "Warning: Your Kaggle API key is readable by other users on this system! To fix this, you can run 'chmod 600 /root/.kaggle/kaggle.json'\n",
            "100% 200k/200k [00:01<00:00, 140kB/s]\n",
            "Successfully submitted to Northeastern SMILE Lab - Recognizing Faces in the Wild"
          ],
          "name": "stdout"
        }
      ]
    },
    {
      "cell_type": "code",
      "metadata": {
        "id": "c5suS6O_RmC5",
        "colab_type": "code",
        "colab": {}
      },
      "source": [
        ""
      ],
      "execution_count": 0,
      "outputs": []
    }
  ]
}