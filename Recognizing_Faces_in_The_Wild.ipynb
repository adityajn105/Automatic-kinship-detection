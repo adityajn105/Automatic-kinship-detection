{
  "nbformat": 4,
  "nbformat_minor": 0,
  "metadata": {
    "colab": {
      "name": "Recognizing Faces in The Wild.ipynb",
      "version": "0.3.2",
      "provenance": [],
      "collapsed_sections": []
    },
    "kernelspec": {
      "name": "python3",
      "display_name": "Python 3"
    },
    "accelerator": "GPU"
  },
  "cells": [
    {
      "cell_type": "code",
      "metadata": {
        "id": "HT0HhLIAEKeP",
        "colab_type": "code",
        "colab": {}
      },
      "source": [
        "from google.colab import files\n",
        "files.upload()"
      ],
      "execution_count": 0,
      "outputs": []
    },
    {
      "cell_type": "code",
      "metadata": {
        "id": "5poCvtK_EPGB",
        "colab_type": "code",
        "outputId": "8fcf41ca-c9ea-4054-df82-a709e0e31f7e",
        "colab": {
          "base_uri": "https://localhost:8080/",
          "height": 258
        }
      },
      "source": [
        "!mkdir /root/.kaggle\n",
        "!mv kaggle.json /root/.kaggle/\n",
        "!kaggle competitions download -c recognizing-faces-in-the-wild\n",
        "!mkdir train test\n",
        "!unzip -q train.zip -d train\n",
        "!unzip -q test.zip -d test\n",
        "!rm train.zip test.zip"
      ],
      "execution_count": 2,
      "outputs": [
        {
          "output_type": "stream",
          "text": [
            "Warning: Your Kaggle API key is readable by other users on this system! To fix this, you can run 'chmod 600 /root/.kaggle/kaggle.json'\n",
            "Downloading train_relationships.csv to /content\n",
            "\r  0% 0.00/77.6k [00:00<?, ?B/s]\n",
            "\r100% 77.6k/77.6k [00:00<00:00, 60.9MB/s]\n",
            "Downloading test.zip to /content\n",
            " 26% 9.00M/34.1M [00:00<00:00, 29.9MB/s]\n",
            "100% 34.1M/34.1M [00:00<00:00, 76.7MB/s]\n",
            "Downloading train.zip to /content\n",
            " 80% 55.0M/68.6M [00:00<00:00, 40.5MB/s]\n",
            "100% 68.6M/68.6M [00:00<00:00, 127MB/s] \n",
            "Downloading sample_submission.csv to /content\n",
            "  0% 0.00/156k [00:00<?, ?B/s]\n",
            "100% 156k/156k [00:00<00:00, 50.5MB/s]\n"
          ],
          "name": "stdout"
        }
      ]
    },
    {
      "cell_type": "code",
      "metadata": {
        "id": "tK-nGulEo__R",
        "colab_type": "code",
        "outputId": "c311ccb0-3ed4-413e-da8b-1f7b5f82bba5",
        "colab": {
          "base_uri": "https://localhost:8080/",
          "height": 360
        }
      },
      "source": [
        "!pip install git+https://github.com/rcmalli/keras-vggface.git"
      ],
      "execution_count": 3,
      "outputs": [
        {
          "output_type": "stream",
          "text": [
            "Collecting git+https://github.com/rcmalli/keras-vggface.git\n",
            "  Cloning https://github.com/rcmalli/keras-vggface.git to /tmp/pip-req-build-bnd2iogp\n",
            "  Running command git clone -q https://github.com/rcmalli/keras-vggface.git /tmp/pip-req-build-bnd2iogp\n",
            "Requirement already satisfied: numpy>=1.9.1 in /usr/local/lib/python3.6/dist-packages (from keras-vggface==0.5) (1.16.3)\n",
            "Requirement already satisfied: scipy>=0.14 in /usr/local/lib/python3.6/dist-packages (from keras-vggface==0.5) (1.3.0)\n",
            "Requirement already satisfied: h5py in /usr/local/lib/python3.6/dist-packages (from keras-vggface==0.5) (2.8.0)\n",
            "Requirement already satisfied: pillow in /usr/local/lib/python3.6/dist-packages (from keras-vggface==0.5) (4.3.0)\n",
            "Requirement already satisfied: keras in /usr/local/lib/python3.6/dist-packages (from keras-vggface==0.5) (2.2.4)\n",
            "Requirement already satisfied: six>=1.9.0 in /usr/local/lib/python3.6/dist-packages (from keras-vggface==0.5) (1.12.0)\n",
            "Requirement already satisfied: pyyaml in /usr/local/lib/python3.6/dist-packages (from keras-vggface==0.5) (3.13)\n",
            "Requirement already satisfied: olefile in /usr/local/lib/python3.6/dist-packages (from pillow->keras-vggface==0.5) (0.46)\n",
            "Requirement already satisfied: keras-applications>=1.0.6 in /usr/local/lib/python3.6/dist-packages (from keras->keras-vggface==0.5) (1.0.7)\n",
            "Requirement already satisfied: keras-preprocessing>=1.0.5 in /usr/local/lib/python3.6/dist-packages (from keras->keras-vggface==0.5) (1.0.9)\n",
            "Building wheels for collected packages: keras-vggface\n",
            "  Building wheel for keras-vggface (setup.py) ... \u001b[?25l\u001b[?25hdone\n",
            "  Stored in directory: /tmp/pip-ephem-wheel-cache-3ynt3t7r/wheels/36/07/46/06c25ce8e9cd396dabe151ea1d8a2bc28dafcb11321c1f3a6d\n",
            "Successfully built keras-vggface\n",
            "Installing collected packages: keras-vggface\n",
            "Successfully installed keras-vggface-0.5\n"
          ],
          "name": "stdout"
        }
      ]
    },
    {
      "cell_type": "code",
      "metadata": {
        "id": "6MxrfTqork91",
        "colab_type": "code",
        "outputId": "9e2ceb0a-19e9-42c0-a9df-c804a101962e",
        "colab": {
          "base_uri": "https://localhost:8080/",
          "height": 34
        }
      },
      "source": [
        "import gc\n",
        "import cv2\n",
        "import glob\n",
        "import numpy as np\n",
        "from keras_vggface.utils import preprocess_input\n",
        "\n",
        "def read_img(path):\n",
        "  img = cv2.imread(path)\n",
        "  img = np.array(img).astype(np.float)\n",
        "  return preprocess_input(img,version=2)"
      ],
      "execution_count": 4,
      "outputs": [
        {
          "output_type": "stream",
          "text": [
            "Using TensorFlow backend.\n"
          ],
          "name": "stderr"
        }
      ]
    },
    {
      "cell_type": "code",
      "metadata": {
        "id": "psjuVfOyXZea",
        "colab_type": "code",
        "outputId": "e5b3719c-83c7-4cd5-d195-f6529754f9de",
        "colab": {
          "base_uri": "https://localhost:8080/",
          "height": 34
        }
      },
      "source": [
        "from collections import defaultdict\n",
        "allPhotos = defaultdict(list)\n",
        "for family in glob.glob(\"train/*\"):\n",
        "  for mem in glob.glob(family+'/*'):\n",
        "    for photo in glob.glob(mem+'/*'):\n",
        "      allPhotos[mem].append(photo)\n",
        "ppl = list(allPhotos.keys())\n",
        "len(ppl)"
      ],
      "execution_count": 5,
      "outputs": [
        {
          "output_type": "execute_result",
          "data": {
            "text/plain": [
              "2316"
            ]
          },
          "metadata": {
            "tags": []
          },
          "execution_count": 5
        }
      ]
    },
    {
      "cell_type": "code",
      "metadata": {
        "id": "MdMCkPo7oBM8",
        "colab_type": "code",
        "outputId": "306b6afd-206a-4aa6-fb09-6342f39eba9d",
        "colab": {
          "base_uri": "https://localhost:8080/",
          "height": 221
        }
      },
      "source": [
        "import pandas as pd\n",
        "import numpy as np\n",
        "data = pd.read_csv('train_relationships.csv')\n",
        "data.p1 = data.p1.apply( lambda x: 'train/'+x )\n",
        "data.p2 = data.p2.apply( lambda x: 'train/'+x )\n",
        "print(data.shape)\n",
        "data.head()"
      ],
      "execution_count": 6,
      "outputs": [
        {
          "output_type": "stream",
          "text": [
            "(3598, 2)\n"
          ],
          "name": "stdout"
        },
        {
          "output_type": "execute_result",
          "data": {
            "text/html": [
              "<div>\n",
              "<style scoped>\n",
              "    .dataframe tbody tr th:only-of-type {\n",
              "        vertical-align: middle;\n",
              "    }\n",
              "\n",
              "    .dataframe tbody tr th {\n",
              "        vertical-align: top;\n",
              "    }\n",
              "\n",
              "    .dataframe thead th {\n",
              "        text-align: right;\n",
              "    }\n",
              "</style>\n",
              "<table border=\"1\" class=\"dataframe\">\n",
              "  <thead>\n",
              "    <tr style=\"text-align: right;\">\n",
              "      <th></th>\n",
              "      <th>p1</th>\n",
              "      <th>p2</th>\n",
              "    </tr>\n",
              "  </thead>\n",
              "  <tbody>\n",
              "    <tr>\n",
              "      <th>0</th>\n",
              "      <td>train/F0002/MID1</td>\n",
              "      <td>train/F0002/MID3</td>\n",
              "    </tr>\n",
              "    <tr>\n",
              "      <th>1</th>\n",
              "      <td>train/F0002/MID2</td>\n",
              "      <td>train/F0002/MID3</td>\n",
              "    </tr>\n",
              "    <tr>\n",
              "      <th>2</th>\n",
              "      <td>train/F0005/MID1</td>\n",
              "      <td>train/F0005/MID2</td>\n",
              "    </tr>\n",
              "    <tr>\n",
              "      <th>3</th>\n",
              "      <td>train/F0005/MID3</td>\n",
              "      <td>train/F0005/MID2</td>\n",
              "    </tr>\n",
              "    <tr>\n",
              "      <th>4</th>\n",
              "      <td>train/F0009/MID1</td>\n",
              "      <td>train/F0009/MID4</td>\n",
              "    </tr>\n",
              "  </tbody>\n",
              "</table>\n",
              "</div>"
            ],
            "text/plain": [
              "                 p1                p2\n",
              "0  train/F0002/MID1  train/F0002/MID3\n",
              "1  train/F0002/MID2  train/F0002/MID3\n",
              "2  train/F0005/MID1  train/F0005/MID2\n",
              "3  train/F0005/MID3  train/F0005/MID2\n",
              "4  train/F0009/MID1  train/F0009/MID4"
            ]
          },
          "metadata": {
            "tags": []
          },
          "execution_count": 6
        }
      ]
    },
    {
      "cell_type": "code",
      "metadata": {
        "id": "ucDz9dmgAX0D",
        "colab_type": "code",
        "outputId": "2ab30638-5cf9-469e-efa9-45b03289b14f",
        "colab": {
          "base_uri": "https://localhost:8080/",
          "height": 34
        }
      },
      "source": [
        "data = data[ ( (data.p1.isin(ppl)) & (data.p2.isin(ppl)) ) ]\n",
        "data = [ ( x[0], x[1]  ) for x in data.values ]\n",
        "len(data)"
      ],
      "execution_count": 7,
      "outputs": [
        {
          "output_type": "execute_result",
          "data": {
            "text/plain": [
              "3362"
            ]
          },
          "metadata": {
            "tags": []
          },
          "execution_count": 7
        }
      ]
    },
    {
      "cell_type": "code",
      "metadata": {
        "id": "-WozbrHIiPWu",
        "colab_type": "code",
        "outputId": "24a4935a-8f61-4d85-f369-5563b4cafcde",
        "colab": {
          "base_uri": "https://localhost:8080/",
          "height": 269
        }
      },
      "source": [
        "%matplotlib inline\n",
        "import matplotlib.pyplot as plt\n",
        "from random import choice, sample\n",
        "\n",
        "f, ax = plt.subplots(2, 2, figsize=(4, 4))\n",
        "batch = sample(data,2)\n",
        "for i,j in [(0,0),(0,1),(1,0),(1,1)]:\n",
        "  ax[i][j].imshow( cv2.imread( choice(allPhotos[batch[i][j]]) ) )"
      ],
      "execution_count": 8,
      "outputs": [
        {
          "output_type": "display_data",
          "data": {
            "image/png": "[encoded data removed]",
            "text/plain": [
              "<Figure size 288x288 with 4 Axes>"
            ]
          },
          "metadata": {
            "tags": []
          }
        }
      ]
    },
    {
      "cell_type": "code",
      "metadata": {
        "id": "0ynX6fHHSkK6",
        "colab_type": "code",
        "outputId": "61107148-cdf6-465a-baba-8c7db79679aa",
        "colab": {
          "base_uri": "https://localhost:8080/",
          "height": 34
        }
      },
      "source": [
        "train = [ x for x in data if 'F09' not in x[0]  ]\n",
        "val = [ x for x in data if 'F09' in x[0]  ]\n",
        "len(train), len(val)"
      ],
      "execution_count": 9,
      "outputs": [
        {
          "output_type": "execute_result",
          "data": {
            "text/plain": [
              "(3066, 296)"
            ]
          },
          "metadata": {
            "tags": []
          },
          "execution_count": 9
        }
      ]
    },
    {
      "cell_type": "code",
      "metadata": {
        "id": "1DMuAgZVElFX",
        "colab_type": "code",
        "colab": {}
      },
      "source": [
        "del data; gc.collect();"
      ],
      "execution_count": 0,
      "outputs": []
    },
    {
      "cell_type": "code",
      "metadata": {
        "id": "grj2PbcEXlY6",
        "colab_type": "code",
        "colab": {}
      },
      "source": [
        "def getImages(p1,p2):\n",
        "    p1 = read_img(choice(allPhotos[p1]))\n",
        "    p2 = read_img(choice(allPhotos[p2]))\n",
        "    return p1,p2\n",
        "\n",
        "def getMiniBatch(batch_size=16, data=train):\n",
        "  p1 = []; p2 = []; Y = []\n",
        "  batch = sample(data, batch_size//2)\n",
        "  for x in batch:\n",
        "    _p1, _p2 = getImages(*x)\n",
        "    p1.append(_p1);p2.append(_p2);Y.append(1)\n",
        "  while len(Y) < batch_size:\n",
        "    _p1,_p2 = tuple(np.random.choice(ppl,size=2, replace=False))\n",
        "    if (_p1,_p2) not in train+val and (_p2,_p1) not in train+val:\n",
        "      _p1,_p2 = getImages(_p1,_p2)\n",
        "      p1.append(_p1);p2.append(_p2);Y.append(0) \n",
        "  return [np.array(p1),np.array(p2)], np.array(Y)"
      ],
      "execution_count": 0,
      "outputs": []
    },
    {
      "cell_type": "code",
      "metadata": {
        "id": "SRD1pUAzDFDe",
        "colab_type": "code",
        "outputId": "4977e525-d66a-416f-93fc-4654d779dfb7",
        "colab": {
          "base_uri": "https://localhost:8080/",
          "height": 122
        }
      },
      "source": [
        "from keras_vggface.vggface import VGGFace\n",
        "\n",
        "IMG_DIM = (224,224,3)\n",
        "\n",
        "vggface = VGGFace(model='resnet50', include_top=False)\n",
        "\n",
        "for layer in vggface.layers[:-3]:\n",
        "  layer.trainable=True"
      ],
      "execution_count": 12,
      "outputs": [
        {
          "output_type": "stream",
          "text": [
            "WARNING:tensorflow:From /usr/local/lib/python3.6/dist-packages/tensorflow/python/framework/op_def_library.py:263: colocate_with (from tensorflow.python.framework.ops) is deprecated and will be removed in a future version.\n",
            "Instructions for updating:\n",
            "Colocations handled automatically by placer.\n",
            "Downloading data from https://github.com/rcmalli/keras-vggface/releases/download/v2.0/rcmalli_vggface_tf_notop_resnet50.h5\n",
            "94699520/94694792 [==============================] - 1s 0us/step\n"
          ],
          "name": "stdout"
        }
      ]
    },
    {
      "cell_type": "code",
      "metadata": {
        "id": "YpZHLc4dHjVM",
        "colab_type": "code",
        "colab": {}
      },
      "source": [
        "def initialize_bias(shape, name=None):\n",
        "    \"\"\"\n",
        "        The paper, http://www.cs.utoronto.ca/~gkoch/files/msc-thesis.pdf\n",
        "        suggests to initialize CNN layer bias with mean as 0.5 and standard deviation of 0.01\n",
        "    \"\"\"\n",
        "    return np.random.normal(loc = 0.5, scale = 1e-2, size = shape)\n",
        "  \n",
        "def initialize_weights(shape, name=None):\n",
        "    \"\"\"\n",
        "        The paper, http://www.cs.utoronto.ca/~gkoch/files/msc-thesis.pdf\n",
        "        suggests to initialize CNN layer weights with mean as 0.0 and standard deviation of 0.01\n",
        "    \"\"\"\n",
        "    return np.random.normal(loc = 0.0, scale = 1e-2, size = shape)"
      ],
      "execution_count": 0,
      "outputs": []
    },
    {
      "cell_type": "code",
      "metadata": {
        "id": "tleSY8ud8RGe",
        "colab_type": "code",
        "colab": {}
      },
      "source": [
        "from keras.layers import Input, Dense, Flatten, Subtract, Dropout, Multiply\n",
        "from keras.layers import Lambda, Concatenate, GlobalMaxPool2D, GlobalAvgPool2D\n",
        "from keras.models import Model \n",
        "from keras.regularizers import l2\n",
        "from keras import backend as K\n",
        "from keras.optimizers import SGD,Adam\n",
        "from keras.losses import binary_crossentropy\n",
        "import tensorflow as tf\n",
        "from sklearn.metrics import roc_auc_score\n",
        "\n",
        "def auc(y_true, y_pred):\n",
        "    return tf.py_func(roc_auc_score, (y_true, y_pred), tf.double)\n",
        "\n",
        "left_input = Input(IMG_DIM)\n",
        "right_input = Input(IMG_DIM)\n",
        "\n",
        "x1 = vggface(left_input)\n",
        "x2 = vggface(right_input)\n",
        "\n",
        "x1 = Concatenate(axis=-1)([GlobalMaxPool2D()(x1), GlobalAvgPool2D()(x1)])\n",
        "x2 = Concatenate(axis=-1)([GlobalMaxPool2D()(x2), GlobalAvgPool2D()(x2)])\n",
        "\n",
        "fc = Dense(100,activation='relu',kernel_regularizer=l2(1e-3),\n",
        "                   kernel_initializer=initialize_weights,bias_initializer=initialize_bias)\n",
        "x1 = fc(x1)\n",
        "x2 = fc(x2)\n",
        "\n",
        "# |h1-h2|\n",
        "x3 = Lambda(lambda tensors : K.abs(tensors[0] - tensors[1]))([x1, x2])\n",
        "\n",
        "# |h1-h2|^2\n",
        "x4 = Lambda(lambda tensor  : K.square(tensor))(x3)\n",
        "\n",
        "# h1*h2\n",
        "x5 = Multiply()([x1, x2])\n",
        "\n",
        "# |h1-h2|^2 + h1*h2\n",
        "x = Concatenate(axis=-1)([x4,x5])\n",
        "\n",
        "x = Dense(100,activation='relu',kernel_regularizer=l2(1e-3),\n",
        "                   kernel_initializer=initialize_weights,bias_initializer=initialize_bias)(x)\n",
        "x = Dropout(0.1)(x)\n",
        "\n",
        "\n",
        "prediction = Dense(1,activation='sigmoid',bias_initializer=initialize_bias)(x)\n",
        "\n",
        "siamese_net = Model(inputs=[left_input,right_input],outputs=prediction)\n",
        "\n",
        "optimizer = Adam(1e-5)\n",
        "\n",
        "\"https://towardsdatascience.com/lossless-triplet-loss-7e932f990b24\"\n",
        "\n",
        "siamese_net.compile(loss=\"binary_crossentropy\",optimizer=optimizer,metrics=['accuracy',auc])"
      ],
      "execution_count": 0,
      "outputs": []
    },
    {
      "cell_type": "code",
      "metadata": {
        "id": "kSM931f-Qnb6",
        "colab_type": "code",
        "outputId": "44d6d891-833c-4cbb-a44f-b609e350dbfe",
        "colab": {
          "base_uri": "https://localhost:8080/",
          "height": 3658
        }
      },
      "source": [
        "from keras.callbacks import ReduceLROnPlateau, ModelCheckpoint, EarlyStopping\n",
        "import threading\n",
        "\n",
        "reducelr = ReduceLROnPlateau(monitor='val_auc', mode='max',patience=6,factor=0.1,verbose=1)\n",
        "\n",
        "model_checkpoint  = ModelCheckpoint('model_best_checkpoint.h5', save_best_only=True,\n",
        "                                    save_weights_only=True, monitor='val_auc', mode='max', verbose=1)\n",
        "\n",
        "early_stopping = EarlyStopping(monitor='val_auc', patience=20, mode='max')\n",
        "\n",
        "callbacks_list = [reducelr, model_checkpoint, early_stopping]\n",
        "\n",
        "def Generator(batch_size, data ):\n",
        "  while True:\n",
        "    yield getMiniBatch(batch_size=batch_size, data=data)\n",
        "\n",
        "train_gen = Generator(batch_size=16,data=train)\n",
        "val_gen = Generator(batch_size=16,data=val)\n",
        "\n",
        "history = siamese_net.fit_generator( train_gen, samples_per_epoch=200, epochs=100, \n",
        "                          validation_data=val_gen, validation_steps=100, use_multiprocessing=True,\n",
        "                          verbose=1,callbacks=callbacks_list, workers=4)"
      ],
      "execution_count": 16,
      "outputs": [
        {
          "output_type": "stream",
          "text": [
            "WARNING:tensorflow:From /usr/local/lib/python3.6/dist-packages/tensorflow/python/ops/math_ops.py:3066: to_int32 (from tensorflow.python.ops.math_ops) is deprecated and will be removed in a future version.\n",
            "Instructions for updating:\n",
            "Use tf.cast instead.\n"
          ],
          "name": "stdout"
        },
        {
          "output_type": "stream",
          "text": [
            "/usr/local/lib/python3.6/dist-packages/ipykernel_launcher.py:22: UserWarning: Update your `fit_generator` call to the Keras 2 API: `fit_generator(<generator..., epochs=100, validation_data=<generator..., validation_steps=100, use_multiprocessing=True, verbose=1, callbacks=[<keras.ca..., workers=4, steps_per_epoch=200)`\n"
          ],
          "name": "stderr"
        },
        {
          "output_type": "stream",
          "text": [
            "WARNING:tensorflow:From /usr/local/lib/python3.6/dist-packages/tensorflow/python/ops/math_grad.py:102: div (from tensorflow.python.ops.math_ops) is deprecated and will be removed in a future version.\n",
            "Instructions for updating:\n",
            "Deprecated in favor of operator or tf.math.divide.\n",
            "Epoch 1/100"
          ],
          "name": "stdout"
        },
        {
          "output_type": "stream",
          "text": [
            "/usr/local/lib/python3.6/dist-packages/keras/engine/training_generator.py:47: UserWarning: Using a generator with `use_multiprocessing=True` and multiple workers may duplicate your data. Please consider using the`keras.utils.Sequence class.\n",
            "  UserWarning('Using a generator with `use_multiprocessing=True`'\n"
          ],
          "name": "stderr"
        },
        {
          "output_type": "stream",
          "text": [
            "\n",
            "200/200 [==============================] - 84s 419ms/step - loss: 0.7963 - acc: 0.5778 - auc: 0.6005 - val_loss: 0.7859 - val_acc: 0.6106 - val_auc: 0.6919\n",
            "\n",
            "Epoch 00001: val_auc improved from -inf to 0.69188, saving model to model_best_checkpoint.h5\n",
            "Epoch 2/100\n",
            "200/200 [==============================] - 64s 319ms/step - loss: 0.7307 - acc: 0.6481 - auc: 0.7094 - val_loss: 0.7483 - val_acc: 0.6400 - val_auc: 0.7703\n",
            "\n",
            "Epoch 00002: val_auc improved from 0.69188 to 0.77031, saving model to model_best_checkpoint.h5\n",
            "Epoch 3/100\n",
            "200/200 [==============================] - 64s 321ms/step - loss: 0.6608 - acc: 0.7109 - auc: 0.7895 - val_loss: 0.7559 - val_acc: 0.6569 - val_auc: 0.7573\n",
            "\n",
            "Epoch 00003: val_auc did not improve from 0.77031\n",
            "Epoch 4/100\n",
            "200/200 [==============================] - 64s 319ms/step - loss: 0.6337 - acc: 0.7269 - auc: 0.8135 - val_loss: 0.7577 - val_acc: 0.6650 - val_auc: 0.8080\n",
            "\n",
            "Epoch 00004: val_auc improved from 0.77031 to 0.80797, saving model to model_best_checkpoint.h5\n",
            "Epoch 5/100\n",
            "200/200 [==============================] - 64s 322ms/step - loss: 0.6264 - acc: 0.7438 - auc: 0.8235 - val_loss: 0.7058 - val_acc: 0.6750 - val_auc: 0.7783\n",
            "\n",
            "Epoch 00005: val_auc did not improve from 0.80797\n",
            "Epoch 6/100\n",
            "200/200 [==============================] - 65s 324ms/step - loss: 0.5828 - acc: 0.7738 - auc: 0.8540 - val_loss: 0.8305 - val_acc: 0.6481 - val_auc: 0.7827\n",
            "\n",
            "Epoch 00006: val_auc did not improve from 0.80797\n",
            "Epoch 7/100\n",
            "200/200 [==============================] - 65s 324ms/step - loss: 0.5712 - acc: 0.7666 - auc: 0.8605 - val_loss: 0.8871 - val_acc: 0.6425 - val_auc: 0.7573\n",
            "\n",
            "Epoch 00007: val_auc did not improve from 0.80797\n",
            "Epoch 8/100\n",
            "200/200 [==============================] - 65s 324ms/step - loss: 0.5500 - acc: 0.7959 - auc: 0.8808 - val_loss: 0.7739 - val_acc: 0.7087 - val_auc: 0.8225\n",
            "\n",
            "Epoch 00008: val_auc improved from 0.80797 to 0.82250, saving model to model_best_checkpoint.h5\n",
            "Epoch 9/100\n",
            "200/200 [==============================] - 64s 321ms/step - loss: 0.5561 - acc: 0.7909 - auc: 0.8748 - val_loss: 0.7437 - val_acc: 0.6925 - val_auc: 0.8016\n",
            "\n",
            "Epoch 00009: val_auc did not improve from 0.82250\n",
            "Epoch 10/100\n",
            "200/200 [==============================] - 65s 323ms/step - loss: 0.5195 - acc: 0.8150 - auc: 0.8980 - val_loss: 0.8646 - val_acc: 0.6625 - val_auc: 0.7572\n",
            "\n",
            "Epoch 00010: val_auc did not improve from 0.82250\n",
            "Epoch 11/100\n",
            "200/200 [==============================] - 65s 325ms/step - loss: 0.5209 - acc: 0.8069 - auc: 0.8923 - val_loss: 0.8465 - val_acc: 0.6650 - val_auc: 0.7886\n",
            "\n",
            "Epoch 00011: val_auc did not improve from 0.82250\n",
            "Epoch 12/100\n",
            "200/200 [==============================] - 65s 325ms/step - loss: 0.5181 - acc: 0.8100 - auc: 0.8966 - val_loss: 0.9478 - val_acc: 0.6406 - val_auc: 0.7594\n",
            "\n",
            "Epoch 00012: val_auc did not improve from 0.82250\n",
            "Epoch 13/100\n",
            "200/200 [==============================] - 65s 324ms/step - loss: 0.4751 - acc: 0.8281 - auc: 0.9158 - val_loss: 0.9249 - val_acc: 0.6525 - val_auc: 0.7822\n",
            "\n",
            "Epoch 00013: val_auc did not improve from 0.82250\n",
            "Epoch 14/100\n",
            "200/200 [==============================] - 64s 320ms/step - loss: 0.5207 - acc: 0.8122 - auc: 0.8898 - val_loss: 0.8876 - val_acc: 0.6538 - val_auc: 0.7438\n",
            "\n",
            "Epoch 00014: ReduceLROnPlateau reducing learning rate to 9.999999747378752e-07.\n",
            "\n",
            "Epoch 00014: val_auc did not improve from 0.82250\n",
            "Epoch 15/100\n",
            "200/200 [==============================] - 65s 323ms/step - loss: 0.4682 - acc: 0.8325 - auc: 0.9188 - val_loss: 0.8587 - val_acc: 0.6775 - val_auc: 0.7870\n",
            "\n",
            "Epoch 00015: val_auc did not improve from 0.82250\n",
            "Epoch 16/100\n",
            "200/200 [==============================] - 66s 328ms/step - loss: 0.4847 - acc: 0.8316 - auc: 0.9113 - val_loss: 0.9489 - val_acc: 0.6531 - val_auc: 0.7602\n",
            "\n",
            "Epoch 00016: val_auc did not improve from 0.82250\n",
            "Epoch 17/100\n",
            "200/200 [==============================] - 65s 323ms/step - loss: 0.4658 - acc: 0.8406 - auc: 0.9220 - val_loss: 0.8772 - val_acc: 0.6750 - val_auc: 0.8003\n",
            "\n",
            "Epoch 00017: val_auc did not improve from 0.82250\n",
            "Epoch 18/100\n",
            "200/200 [==============================] - 65s 324ms/step - loss: 0.4609 - acc: 0.8409 - auc: 0.9227 - val_loss: 0.8770 - val_acc: 0.6837 - val_auc: 0.7998\n",
            "\n",
            "Epoch 00018: val_auc did not improve from 0.82250\n",
            "Epoch 19/100\n",
            "200/200 [==============================] - 64s 321ms/step - loss: 0.4620 - acc: 0.8509 - auc: 0.9248 - val_loss: 0.8962 - val_acc: 0.6781 - val_auc: 0.7855\n",
            "\n",
            "Epoch 00019: val_auc did not improve from 0.82250\n",
            "Epoch 20/100\n",
            "200/200 [==============================] - 65s 326ms/step - loss: 0.4532 - acc: 0.8441 - auc: 0.9248 - val_loss: 0.9497 - val_acc: 0.6656 - val_auc: 0.7703\n",
            "\n",
            "Epoch 00020: ReduceLROnPlateau reducing learning rate to 9.999999974752428e-08.\n",
            "\n",
            "Epoch 00020: val_auc did not improve from 0.82250\n",
            "Epoch 21/100\n",
            "200/200 [==============================] - 65s 325ms/step - loss: 0.4778 - acc: 0.8363 - auc: 0.9145 - val_loss: 0.8900 - val_acc: 0.6813 - val_auc: 0.8147\n",
            "\n",
            "Epoch 00021: val_auc did not improve from 0.82250\n",
            "Epoch 22/100\n",
            "200/200 [==============================] - 65s 323ms/step - loss: 0.4829 - acc: 0.8294 - auc: 0.9108 - val_loss: 0.9054 - val_acc: 0.6631 - val_auc: 0.7887\n",
            "\n",
            "Epoch 00022: val_auc did not improve from 0.82250\n",
            "Epoch 23/100\n",
            "200/200 [==============================] - 65s 323ms/step - loss: 0.4708 - acc: 0.8419 - auc: 0.9166 - val_loss: 0.9317 - val_acc: 0.6656 - val_auc: 0.7966\n",
            "\n",
            "Epoch 00023: val_auc did not improve from 0.82250\n",
            "Epoch 24/100\n",
            "200/200 [==============================] - 64s 322ms/step - loss: 0.4277 - acc: 0.8650 - auc: 0.9379 - val_loss: 0.9544 - val_acc: 0.6344 - val_auc: 0.7711\n",
            "\n",
            "Epoch 00024: val_auc did not improve from 0.82250\n",
            "Epoch 25/100\n",
            "200/200 [==============================] - 65s 325ms/step - loss: 0.4694 - acc: 0.8384 - auc: 0.9185 - val_loss: 0.9251 - val_acc: 0.6706 - val_auc: 0.8080\n",
            "\n",
            "Epoch 00025: val_auc did not improve from 0.82250\n",
            "Epoch 26/100\n",
            "200/200 [==============================] - 65s 324ms/step - loss: 0.4787 - acc: 0.8322 - auc: 0.9137 - val_loss: 0.9749 - val_acc: 0.6600 - val_auc: 0.7986\n",
            "\n",
            "Epoch 00026: ReduceLROnPlateau reducing learning rate to 1.0000000116860975e-08.\n",
            "\n",
            "Epoch 00026: val_auc did not improve from 0.82250\n",
            "Epoch 27/100\n",
            "200/200 [==============================] - 65s 323ms/step - loss: 0.4694 - acc: 0.8438 - auc: 0.9189 - val_loss: 0.9617 - val_acc: 0.6525 - val_auc: 0.7864\n",
            "\n",
            "Epoch 00027: val_auc did not improve from 0.82250\n",
            "Epoch 28/100\n",
            "200/200 [==============================] - 64s 322ms/step - loss: 0.4783 - acc: 0.8322 - auc: 0.9152 - val_loss: 0.8626 - val_acc: 0.6756 - val_auc: 0.8539\n",
            "\n",
            "Epoch 00028: val_auc improved from 0.82250 to 0.85391, saving model to model_best_checkpoint.h5\n",
            "Epoch 29/100\n",
            "200/200 [==============================] - 64s 322ms/step - loss: 0.4653 - acc: 0.8478 - auc: 0.9216 - val_loss: 0.9886 - val_acc: 0.6250 - val_auc: 0.7452\n",
            "\n",
            "Epoch 00029: val_auc did not improve from 0.85391\n",
            "Epoch 30/100\n",
            "200/200 [==============================] - 65s 324ms/step - loss: 0.4766 - acc: 0.8322 - auc: 0.9145 - val_loss: 0.9799 - val_acc: 0.6369 - val_auc: 0.7544\n",
            "\n",
            "Epoch 00030: val_auc did not improve from 0.85391\n",
            "Epoch 31/100\n",
            "200/200 [==============================] - 65s 323ms/step - loss: 0.4622 - acc: 0.8391 - auc: 0.9234 - val_loss: 0.9692 - val_acc: 0.6450 - val_auc: 0.7684\n",
            "\n",
            "Epoch 00031: val_auc did not improve from 0.85391\n",
            "Epoch 32/100\n",
            "200/200 [==============================] - 65s 323ms/step - loss: 0.4534 - acc: 0.8472 - auc: 0.9246 - val_loss: 0.9573 - val_acc: 0.6388 - val_auc: 0.7411\n",
            "\n",
            "Epoch 00032: val_auc did not improve from 0.85391\n",
            "Epoch 33/100\n",
            "200/200 [==============================] - 65s 323ms/step - loss: 0.4786 - acc: 0.8384 - auc: 0.9139 - val_loss: 0.9624 - val_acc: 0.6312 - val_auc: 0.7677\n",
            "\n",
            "Epoch 00033: val_auc did not improve from 0.85391\n",
            "Epoch 34/100\n",
            "200/200 [==============================] - 64s 322ms/step - loss: 0.4617 - acc: 0.8481 - auc: 0.9239 - val_loss: 0.9212 - val_acc: 0.6269 - val_auc: 0.7477\n",
            "\n",
            "Epoch 00034: ReduceLROnPlateau reducing learning rate to 9.999999939225292e-10.\n",
            "\n",
            "Epoch 00034: val_auc did not improve from 0.85391\n",
            "Epoch 35/100\n",
            "200/200 [==============================] - 65s 326ms/step - loss: 0.4862 - acc: 0.8325 - auc: 0.9075 - val_loss: 0.9820 - val_acc: 0.6325 - val_auc: 0.7456\n",
            "\n",
            "Epoch 00035: val_auc did not improve from 0.85391\n",
            "Epoch 36/100\n",
            "200/200 [==============================] - 65s 324ms/step - loss: 0.4963 - acc: 0.8206 - auc: 0.9060 - val_loss: 0.9642 - val_acc: 0.6331 - val_auc: 0.7709\n",
            "\n",
            "Epoch 00036: val_auc did not improve from 0.85391\n",
            "Epoch 37/100\n",
            "200/200 [==============================] - 65s 324ms/step - loss: 0.4841 - acc: 0.8359 - auc: 0.9134 - val_loss: 0.9866 - val_acc: 0.6381 - val_auc: 0.7381\n",
            "\n",
            "Epoch 00037: val_auc did not improve from 0.85391\n",
            "Epoch 38/100\n",
            "200/200 [==============================] - 65s 324ms/step - loss: 0.4817 - acc: 0.8281 - auc: 0.9105 - val_loss: 0.9437 - val_acc: 0.6369 - val_auc: 0.7567\n",
            "\n",
            "Epoch 00038: val_auc did not improve from 0.85391\n",
            "Epoch 39/100\n",
            "200/200 [==============================] - 65s 324ms/step - loss: 0.4832 - acc: 0.8322 - auc: 0.9127 - val_loss: 0.9883 - val_acc: 0.6244 - val_auc: 0.7388\n",
            "\n",
            "Epoch 00039: val_auc did not improve from 0.85391\n",
            "Epoch 40/100\n",
            "200/200 [==============================] - 65s 323ms/step - loss: 0.4592 - acc: 0.8416 - auc: 0.9231 - val_loss: 0.9727 - val_acc: 0.6350 - val_auc: 0.7469\n",
            "\n",
            "Epoch 00040: ReduceLROnPlateau reducing learning rate to 9.999999717180686e-11.\n",
            "\n",
            "Epoch 00040: val_auc did not improve from 0.85391\n",
            "Epoch 41/100\n",
            "200/200 [==============================] - 65s 324ms/step - loss: 0.4481 - acc: 0.8491 - auc: 0.9288 - val_loss: 1.0612 - val_acc: 0.6050 - val_auc: 0.6867\n",
            "\n",
            "Epoch 00041: val_auc did not improve from 0.85391\n",
            "Epoch 42/100\n",
            "200/200 [==============================] - 65s 323ms/step - loss: 0.4433 - acc: 0.8481 - auc: 0.9309 - val_loss: 0.9883 - val_acc: 0.6256 - val_auc: 0.7347\n",
            "\n",
            "Epoch 00042: val_auc did not improve from 0.85391\n",
            "Epoch 43/100\n",
            "200/200 [==============================] - 66s 328ms/step - loss: 0.4499 - acc: 0.8438 - auc: 0.9291 - val_loss: 0.9641 - val_acc: 0.6294 - val_auc: 0.7403\n",
            "\n",
            "Epoch 00043: val_auc did not improve from 0.85391\n",
            "Epoch 44/100\n",
            "200/200 [==============================] - 66s 330ms/step - loss: 0.4792 - acc: 0.8378 - auc: 0.9138 - val_loss: 1.0339 - val_acc: 0.5919 - val_auc: 0.6817\n",
            "\n",
            "Epoch 00044: val_auc did not improve from 0.85391\n",
            "Epoch 45/100\n",
            "200/200 [==============================] - 65s 324ms/step - loss: 0.4399 - acc: 0.8584 - auc: 0.9316 - val_loss: 0.9943 - val_acc: 0.6350 - val_auc: 0.7319\n",
            "\n",
            "Epoch 00045: val_auc did not improve from 0.85391\n",
            "Epoch 46/100\n",
            "200/200 [==============================] - 65s 324ms/step - loss: 0.4354 - acc: 0.8547 - auc: 0.9343 - val_loss: 1.0391 - val_acc: 0.5925 - val_auc: 0.7036\n",
            "\n",
            "Epoch 00046: ReduceLROnPlateau reducing learning rate to 9.99999943962493e-12.\n",
            "\n",
            "Epoch 00046: val_auc did not improve from 0.85391\n",
            "Epoch 47/100\n",
            "200/200 [==============================] - 65s 324ms/step - loss: 0.4501 - acc: 0.8484 - auc: 0.9285 - val_loss: 0.9774 - val_acc: 0.6388 - val_auc: 0.7425\n",
            "\n",
            "Epoch 00047: val_auc did not improve from 0.85391\n",
            "Epoch 48/100\n",
            "200/200 [==============================] - 65s 323ms/step - loss: 0.4487 - acc: 0.8497 - auc: 0.9290 - val_loss: 0.9600 - val_acc: 0.6456 - val_auc: 0.7561\n",
            "\n",
            "Epoch 00048: val_auc did not improve from 0.85391\n"
          ],
          "name": "stdout"
        }
      ]
    },
    {
      "cell_type": "code",
      "metadata": {
        "id": "Z8WFmgf60EDw",
        "colab_type": "code",
        "outputId": "b444982c-ff57-4009-ca1c-60bcdaf48b1f",
        "colab": {
          "base_uri": "https://localhost:8080/",
          "height": 328
        }
      },
      "source": [
        "f, (ax1, ax2, ax3) = plt.subplots(1, 3, figsize=(16, 4))\n",
        "t = f.suptitle('Siamese Net Performance', fontsize=12)\n",
        "f.subplots_adjust(top=0.85, wspace=0.3)\n",
        "epoch_list = history.epoch\n",
        "\n",
        "ax1.plot(epoch_list, history.history['acc'], label='Train Accuracy')\n",
        "ax1.plot(epoch_list, history.history['val_acc'], label='Validation Accuracy')\n",
        "ax1.set_xticks(np.arange(0, epoch_list[-1], 5))\n",
        "ax1.set_ylabel('Accuracy Value');ax1.set_xlabel('Epoch');ax1.set_title('Accuracy')\n",
        "ax1.legend(loc=\"best\");ax1.grid(color='gray', linestyle='-', linewidth=0.5)\n",
        "\n",
        "ax2.plot(epoch_list, history.history['loss'], label='Train Loss')\n",
        "ax2.plot(epoch_list, history.history['val_loss'], label='Validation Loss')\n",
        "ax2.set_xticks(np.arange(0, epoch_list[-1], 5))\n",
        "ax2.set_ylabel('Loss Value');ax2.set_xlabel('Epoch');ax2.set_title('Loss')\n",
        "ax2.legend(loc=\"best\");ax2.grid(color='gray', linestyle='-', linewidth=0.5)\n",
        "\n",
        "ax3.plot(epoch_list, history.history['auc'], label='Train AUC')\n",
        "ax3.plot(epoch_list, history.history['val_auc'], label='Validation AUC')\n",
        "ax3.set_xticks(np.arange(0, epoch_list[-1], 5))\n",
        "ax3.set_ylabel('AUC');ax3.set_xlabel('Epoch');ax3.set_title('AUC')\n",
        "ax3.legend(loc=\"best\");ax3.grid(color='gray', linestyle='-', linewidth=0.5)"
      ],
      "execution_count": 17,
      "outputs": [
        {
          "output_type": "display_data",
          "data": {
            "image/png": "[encoded data removed]",
            "text/plain": [
              "<Figure size 1152x288 with 3 Axes>"
            ]
          },
          "metadata": {
            "tags": []
          }
        }
      ]
    },
    {
      "cell_type": "code",
      "metadata": {
        "id": "xEKM9urnP-Xn",
        "colab_type": "code",
        "colab": {}
      },
      "source": [
        "siamese_net.load_weights('model_best_checkpoint.h5')"
      ],
      "execution_count": 0,
      "outputs": []
    },
    {
      "cell_type": "code",
      "metadata": {
        "id": "pMD1iAphODDk",
        "colab_type": "code",
        "outputId": "5459b863-60f2-454f-a895-3045e7ce0b37",
        "colab": {
          "base_uri": "https://localhost:8080/",
          "height": 221
        }
      },
      "source": [
        "submission = pd.read_csv('sample_submission.csv')\n",
        "submission['p1'] = submission.img_pair.apply( lambda x: 'test/'+x.split('-')[0] )\n",
        "submission['p2'] = submission.img_pair.apply( lambda x: 'test/'+x.split('-')[1] )\n",
        "print(submission.shape)\n",
        "submission.head()"
      ],
      "execution_count": 19,
      "outputs": [
        {
          "output_type": "stream",
          "text": [
            "(5310, 4)\n"
          ],
          "name": "stdout"
        },
        {
          "output_type": "execute_result",
          "data": {
            "text/html": [
              "<div>\n",
              "<style scoped>\n",
              "    .dataframe tbody tr th:only-of-type {\n",
              "        vertical-align: middle;\n",
              "    }\n",
              "\n",
              "    .dataframe tbody tr th {\n",
              "        vertical-align: top;\n",
              "    }\n",
              "\n",
              "    .dataframe thead th {\n",
              "        text-align: right;\n",
              "    }\n",
              "</style>\n",
              "<table border=\"1\" class=\"dataframe\">\n",
              "  <thead>\n",
              "    <tr style=\"text-align: right;\">\n",
              "      <th></th>\n",
              "      <th>img_pair</th>\n",
              "      <th>is_related</th>\n",
              "      <th>p1</th>\n",
              "      <th>p2</th>\n",
              "    </tr>\n",
              "  </thead>\n",
              "  <tbody>\n",
              "    <tr>\n",
              "      <th>0</th>\n",
              "      <td>face05508.jpg-face01210.jpg</td>\n",
              "      <td>0</td>\n",
              "      <td>test/face05508.jpg</td>\n",
              "      <td>test/face01210.jpg</td>\n",
              "    </tr>\n",
              "    <tr>\n",
              "      <th>1</th>\n",
              "      <td>face05750.jpg-face00898.jpg</td>\n",
              "      <td>0</td>\n",
              "      <td>test/face05750.jpg</td>\n",
              "      <td>test/face00898.jpg</td>\n",
              "    </tr>\n",
              "    <tr>\n",
              "      <th>2</th>\n",
              "      <td>face05820.jpg-face03938.jpg</td>\n",
              "      <td>0</td>\n",
              "      <td>test/face05820.jpg</td>\n",
              "      <td>test/face03938.jpg</td>\n",
              "    </tr>\n",
              "    <tr>\n",
              "      <th>3</th>\n",
              "      <td>face02104.jpg-face01172.jpg</td>\n",
              "      <td>0</td>\n",
              "      <td>test/face02104.jpg</td>\n",
              "      <td>test/face01172.jpg</td>\n",
              "    </tr>\n",
              "    <tr>\n",
              "      <th>4</th>\n",
              "      <td>face02428.jpg-face05611.jpg</td>\n",
              "      <td>0</td>\n",
              "      <td>test/face02428.jpg</td>\n",
              "      <td>test/face05611.jpg</td>\n",
              "    </tr>\n",
              "  </tbody>\n",
              "</table>\n",
              "</div>"
            ],
            "text/plain": [
              "                      img_pair  ...                  p2\n",
              "0  face05508.jpg-face01210.jpg  ...  test/face01210.jpg\n",
              "1  face05750.jpg-face00898.jpg  ...  test/face00898.jpg\n",
              "2  face05820.jpg-face03938.jpg  ...  test/face03938.jpg\n",
              "3  face02104.jpg-face01172.jpg  ...  test/face01172.jpg\n",
              "4  face02428.jpg-face05611.jpg  ...  test/face05611.jpg\n",
              "\n",
              "[5 rows x 4 columns]"
            ]
          },
          "metadata": {
            "tags": []
          },
          "execution_count": 19
        }
      ]
    },
    {
      "cell_type": "code",
      "metadata": {
        "id": "dmBQTMX6UVPd",
        "colab_type": "code",
        "outputId": "36c11a28-07d5-4c56-a7aa-d66cbbf2221d",
        "colab": {
          "base_uri": "https://localhost:8080/",
          "height": 34
        }
      },
      "source": [
        "from tqdm import tqdm\n",
        "\n",
        "probs = []\n",
        "for i,j in tqdm([ (0,500),(500,1000),(1000,1500),(1500,2000),(2000,2500),\n",
        "                 (2500,3000),(3000,3500),(3500,4000),(4000,4500),(4500,5000),(5000,5310) ]):\n",
        "  imgs1 = np.array( [ read_img(photo) for photo in submission.p1.values[i:j] ] )\n",
        "  imgs2 = np.array( [ read_img(photo) for photo in submission.p2.values[i:j] ] )\n",
        "  prob =  siamese_net.predict( [ imgs1, imgs2 ] )\n",
        "  probs.append(np.squeeze(prob))\n",
        "  del imgs1,imgs2; gc.collect()"
      ],
      "execution_count": 20,
      "outputs": [
        {
          "output_type": "stream",
          "text": [
            "100%|██████████| 11/11 [01:22<00:00,  6.90s/it]\n"
          ],
          "name": "stderr"
        }
      ]
    },
    {
      "cell_type": "code",
      "metadata": {
        "id": "26g7HCzrWJUA",
        "colab_type": "code",
        "outputId": "bb56de98-7217-4bc5-c97a-1dd8672faca6",
        "colab": {
          "base_uri": "https://localhost:8080/",
          "height": 204
        }
      },
      "source": [
        "submission.is_related = np.concatenate(probs)\n",
        "submission.drop( ['p1','p2'],axis=1,inplace=True )\n",
        "submission.head()"
      ],
      "execution_count": 21,
      "outputs": [
        {
          "output_type": "execute_result",
          "data": {
            "text/html": [
              "<div>\n",
              "<style scoped>\n",
              "    .dataframe tbody tr th:only-of-type {\n",
              "        vertical-align: middle;\n",
              "    }\n",
              "\n",
              "    .dataframe tbody tr th {\n",
              "        vertical-align: top;\n",
              "    }\n",
              "\n",
              "    .dataframe thead th {\n",
              "        text-align: right;\n",
              "    }\n",
              "</style>\n",
              "<table border=\"1\" class=\"dataframe\">\n",
              "  <thead>\n",
              "    <tr style=\"text-align: right;\">\n",
              "      <th></th>\n",
              "      <th>img_pair</th>\n",
              "      <th>is_related</th>\n",
              "    </tr>\n",
              "  </thead>\n",
              "  <tbody>\n",
              "    <tr>\n",
              "      <th>0</th>\n",
              "      <td>face05508.jpg-face01210.jpg</td>\n",
              "      <td>0.074123</td>\n",
              "    </tr>\n",
              "    <tr>\n",
              "      <th>1</th>\n",
              "      <td>face05750.jpg-face00898.jpg</td>\n",
              "      <td>0.528516</td>\n",
              "    </tr>\n",
              "    <tr>\n",
              "      <th>2</th>\n",
              "      <td>face05820.jpg-face03938.jpg</td>\n",
              "      <td>0.422200</td>\n",
              "    </tr>\n",
              "    <tr>\n",
              "      <th>3</th>\n",
              "      <td>face02104.jpg-face01172.jpg</td>\n",
              "      <td>0.208156</td>\n",
              "    </tr>\n",
              "    <tr>\n",
              "      <th>4</th>\n",
              "      <td>face02428.jpg-face05611.jpg</td>\n",
              "      <td>0.760507</td>\n",
              "    </tr>\n",
              "  </tbody>\n",
              "</table>\n",
              "</div>"
            ],
            "text/plain": [
              "                      img_pair  is_related\n",
              "0  face05508.jpg-face01210.jpg    0.074123\n",
              "1  face05750.jpg-face00898.jpg    0.528516\n",
              "2  face05820.jpg-face03938.jpg    0.422200\n",
              "3  face02104.jpg-face01172.jpg    0.208156\n",
              "4  face02428.jpg-face05611.jpg    0.760507"
            ]
          },
          "metadata": {
            "tags": []
          },
          "execution_count": 21
        }
      ]
    },
    {
      "cell_type": "code",
      "metadata": {
        "id": "93Cw8sgPWzSz",
        "colab_type": "code",
        "colab": {}
      },
      "source": [
        "submission.to_csv('submission.csv',index=False)"
      ],
      "execution_count": 0,
      "outputs": []
    },
    {
      "cell_type": "code",
      "metadata": {
        "id": "PwtaujPKOCuY",
        "colab_type": "code",
        "outputId": "cdb7e5d5-ff37-4b1e-e6b3-e37dad9c8258",
        "colab": {
          "base_uri": "https://localhost:8080/",
          "height": 88
        }
      },
      "source": [
        "!kaggle competitions submit -c recognizing-faces-in-the-wild -f submission.csv -m \"11th vgg-face resnet(all train) all-imgs adam(1e-5) earlystop arch-2 (extra layer after vgg)\""
      ],
      "execution_count": 23,
      "outputs": [
        {
          "output_type": "stream",
          "text": [
            "Warning: Your Kaggle API key is readable by other users on this system! To fix this, you can run 'chmod 600 /root/.kaggle/kaggle.json'\n",
            "100% 201k/201k [00:01<00:00, 145kB/s]\n",
            "Successfully submitted to Northeastern SMILE Lab - Recognizing Faces in the Wild"
          ],
          "name": "stdout"
        }
      ]
    },
    {
      "cell_type": "code",
      "metadata": {
        "id": "c5suS6O_RmC5",
        "colab_type": "code",
        "colab": {}
      },
      "source": [
        ""
      ],
      "execution_count": 0,
      "outputs": []
    }
  ]
}